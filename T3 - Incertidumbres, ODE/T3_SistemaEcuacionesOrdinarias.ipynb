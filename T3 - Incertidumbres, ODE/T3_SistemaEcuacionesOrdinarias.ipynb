{
 "cells": [
  {
   "cell_type": "markdown",
   "id": "ea6e2bc4",
   "metadata": {},
   "source": [
    "Estudiante 1:\n",
    "\n",
    "Estudiante 2:\n",
    "\n",
    "----"
   ]
  },
  {
   "cell_type": "markdown",
   "id": "f09b1d95",
   "metadata": {},
   "source": [
    "# Departamento de Ingeniería Mecánica\n",
    "## IMEC 2001 - Herramientas Computacionales\n",
    "### Taller 3 - Sistemas de Ecuaciones Ordinarias\n",
    "----\n",
    "### **<span style=\"color:#A1CCD1;\">Condiciones de la entrega </span>**\n",
    "----\n",
    "**1. Fechas de entrega:**\n",
    "- Nota sobre 5.00 ->  <span style=\"color:red;\">1 de Octubre a las 23:59, 2023</span>\n",
    "\n",
    "**2. Colocar el nombre de los integrantes en la casilla correspondiente<br>**\n",
    "**3. La entrega del taller es por Bloque Neon y se envía el archivo en formato de Jupyter Notebook (extensión `.ipynb`)<br>**\n",
    "**4. El nombre del archivo debe ser:** \n",
    "- Si trabajó en parejas:`T#_ApellidosIntegrante1_ApellidosIntegrante2` (Ej: `T#_Salamanca_VargasTorres`)\n",
    "- Si trabajó individual: `T#_Apellido` (Ej: `T#_VargasTorres`)\n",
    "\n",
    "**5. Comente el código con el proceso que realizó para llegar a la solución.<br>**\n",
    "**6. <span style=\"color:red;\"> Si se detecta copia con otro de los talleres enviados, automáticamente la nota para los grupos involucrados es 0. </span>**\n",
    "\n",
    "\n",
    "\n"
   ]
  },
  {
   "cell_type": "markdown",
   "id": "54dac631",
   "metadata": {},
   "source": [
    "<a id=\"exercise3\"></a>\n",
    "## <font color=\"#276C9B\"> Actividad 1  </font>\n",
    "\n",
    "En los sistemas dinámicos bidimensionales para algunos casos se tienen los ciclos límite los cuales son una trayectoria cerrada en el espacio. A continuación tiene las ecuaciones de las que debe encontrar la solución para $x$ y $y$:\n",
    "\n",
    "$$y = - x' + x(1-x^2-y^2)$$\n",
    "$$-x = -y' + y(1-x^2-y^2)$$ \n",
    "\n",
    "El ejercicio que debe realizar consta de los siguientes pasos: \n",
    "1. Reescriba la ecuación para que se exprese la primera derivada en términos de x y y. \n",
    "3. Especifique como condiciones iniciales:\n",
    "- x(0) = 0\n",
    "- y(0) = 1\n",
    "4. Especifique el tiempo en el que se va a estudiar la respuesta. \n",
    "4. Solucione el sistema ode. \n",
    "5. Debe realizar una gráfica interactiva teniendo en cuenta la solución encontrada en el literal anterior. Para esto utilice la siguiente función (lo que se encuentra comentado debe completarlo): \n",
    "\n",
    "```Python\n",
    "def f(alpha, t):\n",
    "    tiempo = # Completar\n",
    "    sol = # Completar\n",
    "    \n",
    "    w = 3\n",
    "    x = np.linspace(-w, w, 101)\n",
    "    y = np.linspace(-w, w, 101)\n",
    "    # full coordinate arrays\n",
    "    X, Y = np.meshgrid(x, y)\n",
    "    U = alpha*X - alpha*(X**2 + Y**2)*X - Y\n",
    "    V = alpha*Y - alpha*(X**2 + Y**2)*Y + X\n",
    "    \n",
    "    fig, ax = plt.subplots(figsize=(5,5))\n",
    "    ax.plot(# Completar con la solución encontrada)\n",
    "    ax.streamplot(X,Y,U,V)\n",
    "\n",
    "    formato_grafica(# Completar)\n",
    " ```\n",
    "Para poder desplegar la gráfica utilice la siguiente línea de código:\n",
    "```Python\n",
    " interact(f, alpha=(0, 1, 0.1), t=(0, 'Completar', 0.1))\n",
    " ```"
   ]
  },
  {
   "cell_type": "markdown",
   "id": "7e91a521",
   "metadata": {},
   "source": [
    "1. Varie $\\alpha$ tres veces y comente los resultados.\n",
    "\n",
    "Variando $\\alpha$, podemos observar lo siguiente:\n",
    "\n",
    "Cuando  $\\alpha$  es pequeño, las líneas de corriente son más curvas y la solución oscila alrededor del origen.\n",
    "\n",
    "Cuando $\\alpha$  es grande, las líneas son más rectas y la solución se aleja del origen más rápidamente.\n",
    "\n",
    "Cuando $\\alpha$  está entre estos dos extremos, las líneas de corriente son una mezcla de curvas y rectas, y la solución se aleja del origen a un ritmo moderado.\n",
    "\n",
    "2. Varie el tiempo y comente lo que observa. \n",
    "\n",
    "Variando el tiempo, podemos observar que la solución se aleja del origen y se mueve en espiral hacia el exterior. A medida que aumenta el tiempo, la espiral se hace cada vez más grande.\n"
   ]
  },
  {
   "cell_type": "code",
   "execution_count": 39,
   "id": "2872e97d",
   "metadata": {},
   "outputs": [
    {
     "name": "stderr",
     "output_type": "stream",
     "text": [
      "No artists with labels found to put in legend.  Note that artists whose label start with an underscore are ignored when legend() is called with no argument.\n"
     ]
    },
    {
     "data": {
      "image/png": "[encoded data removed]",
      "text/plain": [
       "<Figure size 432x288 with 1 Axes>"
      ]
     },
     "metadata": {
      "needs_background": "light"
     },
     "output_type": "display_data"
    }
   ],
   "source": [
    "import numpy as np\n",
    "from scipy.integrate import odeint\n",
    "import matplotlib.pyplot as plt\n",
    "from ipywidgets import interact\n",
    "\n",
    "def ecuaciones(v, t):\n",
    "    x, y = v\n",
    "    x_pri = x*(1-x**2-y**2) - y\n",
    "    y_pri = y*(1-x**2-y**2) + x\n",
    "    return [x_pri, y_pri]\n",
    "\n",
    "valores_iniciales = [0, 1]\n",
    "t = np.linspace(0, 10, 100)\n",
    "\n",
    "ans = odeint( ecuaciones, valores_iniciales,t)\n",
    "#print(ans)\n",
    "\n",
    "def formato_grafica(titulo, ejex, ejey, leyenda=False, xlim=[None, None], ylim=[None, None]):\n",
    "    plt.rcParams['axes.axisbelow'] = True\n",
    "\n",
    "    plt.title(titulo, fontsize=15)\n",
    "    plt.ylabel(ejey, fontsize=13)\n",
    "    plt.xlabel(ejex, fontsize=13)\n",
    "\n",
    "    plt.tick_params(direction='out', length=5, width=0.75, grid_alpha=0.3)\n",
    "    plt.xticks(rotation=0)\n",
    "    plt.minorticks_on()\n",
    "    plt.ylim(ylim[0], ylim[1])\n",
    "    plt.xlim(xlim[0], xlim[1])\n",
    "    plt.grid(True)\n",
    "    plt.grid(visible=True, which='major', color='grey', linestyle='-')\n",
    "    plt.grid(visible=True, which='minor', color='lightgrey', linestyle='-', alpha=0.2)\n",
    "    \n",
    "    if leyenda == True:\n",
    "        plt.legend(loc='best')\n",
    "    \n",
    "    plt.tight_layout;\n",
    "\n",
    "plt.plot(ans[:, 0], ans[:, 1])\n",
    "plt.xlabel('x')\n",
    "plt.ylabel('y')\n",
    "formato_grafica(titulo='ecuaciones', \n",
    "                ejex='X', \n",
    "                ejey='Y',\n",
    "                leyenda=True)\n",
    "plt.show()"
   ]
  },
  {
   "cell_type": "code",
   "execution_count": 54,
   "id": "f68c09ef",
   "metadata": {},
   "outputs": [
    {
     "data": {
      "application/vnd.jupyter.widget-view+json": {
       "model_id": "ae86bf526927411caab0c5a3f53ed34d",
       "version_major": 2,
       "version_minor": 0
      },
      "text/plain": [
       "interactive(children=(FloatSlider(value=1.0, description='alpha', max=2.0), FloatSlider(value=5.0, description…"
      ]
     },
     "metadata": {},
     "output_type": "display_data"
    },
    {
     "data": {
      "text/plain": [
       "<function __main__.f(alpha, t)>"
      ]
     },
     "execution_count": 54,
     "metadata": {},
     "output_type": "execute_result"
    }
   ],
   "source": [
    "\n",
    "def formato_grafica(titulo, ejex, ejey, leyenda=False, xlim=[None, None], ylim=[None, None]):\n",
    "    plt.rcParams['axes.axisbelow'] = True\n",
    "\n",
    "    plt.title(titulo, fontsize=15)\n",
    "    plt.ylabel(ejey, fontsize=13)\n",
    "    plt.xlabel(ejex, fontsize=13)\n",
    "\n",
    "    plt.tick_params(direction='out', length=5, width=0.75, grid_alpha=0.3)\n",
    "    plt.xticks(rotation=0)\n",
    "    plt.minorticks_on()\n",
    "    plt.ylim(ylim[0], ylim[1])\n",
    "    plt.xlim(xlim[0], xlim[1])\n",
    "    plt.grid(True)\n",
    "    plt.grid(visible=True, which='major', color='grey', linestyle='-')\n",
    "    plt.grid(visible=True, which='minor', color='lightgrey', linestyle='-', alpha=0.2)\n",
    "    \n",
    "    if leyenda == True:\n",
    "        plt.legend(loc='best')\n",
    "    \n",
    "    plt.tight_layout;\n",
    "\n",
    "def f(alpha, t):\n",
    "    \n",
    "    def ecuaciones(variables, t):\n",
    "        x, y = variables\n",
    "        der_x = x * (1 - x**2 - y**2) - y\n",
    "        der_y = y * (1 - x**2 - y**2) + x\n",
    "        return [der_x, der_y]\n",
    "\n",
    "    condiciones_iniciales = [0, 1] \n",
    "\n",
    "    tiempo = np.linspace(0, t, 1000)\n",
    "\n",
    "    sol = odeint(ecuaciones, condiciones_iniciales, tiempo)\n",
    "    #print(sol)\n",
    "    w = 3\n",
    "    x = np.linspace(-w, w, 101)\n",
    "    y = np.linspace(-w, w, 101)\n",
    "    \n",
    "    X, Y = np.meshgrid(x, y)\n",
    "    U = alpha*X - alpha*(X**2 + Y**2)*X - Y\n",
    "    V = alpha*Y - alpha*(X**2 + Y**2)*Y + X\n",
    "    \n",
    "    fig, ax = plt.subplots(figsize=(5,5))\n",
    "    ax.plot(sol[:,0], sol[:,1])\n",
    "    ax.streamplot(X,Y,U,V)\n",
    "\n",
    "    formato_grafica(titulo='Comportamiento ODE', ejex= 'Tiempo', ejey= 'Funcion(t)', leyenda=False, xlim=[-w, w], ylim=[-w, w])\n",
    "\n",
    "interact(f, alpha=(0, 2, 0.1), t=(0, 10, 0.1))\n",
    "\n"
   ]
  },
  {
   "cell_type": "code",
   "execution_count": 38,
   "id": "042ef4b6",
   "metadata": {},
   "outputs": [
    {
     "data": {
      "application/vnd.jupyter.widget-view+json": {
       "model_id": "8cc215e661364104a22e532809513882",
       "version_major": 2,
       "version_minor": 0
      },
      "text/plain": [
       "interactive(children=(FloatSlider(value=0.0, description='alpha', max=1.0), FloatSlider(value=5.0, description…"
      ]
     },
     "metadata": {},
     "output_type": "display_data"
    },
    {
     "data": {
      "text/plain": [
       "<function __main__.f(alpha, t)>"
      ]
     },
     "execution_count": 38,
     "metadata": {},
     "output_type": "execute_result"
    }
   ],
   "source": [
    "import numpy as np\n",
    "from scipy.integrate import odeint\n",
    "import matplotlib.pyplot as plt\n",
    "from ipywidgets import interact\n",
    "\n",
    "def f(alpha, t):\n",
    "    tiempo = np.linspace(0, t, 1000)\n",
    "    # Solving the system of ODEs\n",
    "    def model(z, t):\n",
    "        x, y = z\n",
    "        dxdt = -y + x*(1 - x**2 - y**2)\n",
    "        dydt = x - y*(1 - x**2 - y**2)\n",
    "        return [dxdt, dydt]\n",
    "    z0 = [0, 1] # Initial conditions\n",
    "    sol = odeint(model, z0, tiempo)\n",
    "    \n",
    "    w = 3\n",
    "    x = np.linspace(-w, w, 101)\n",
    "    y = np.linspace(-w, w, 101)\n",
    "    # full coordinate arrays\n",
    "    X, Y = np.meshgrid(x, y)\n",
    "    #U = alpha*X - alpha*(X**2 + Y**2)*X - Y\n",
    "    #V = alpha*Y - alpha*(X**2 + Y**2)*Y + X\n",
    "    U =  - alpha*(X**2 + Y**2)*X - Y\n",
    "    V =  - alpha*(X**2 + Y**2)*Y + X\n",
    "    fig, ax = plt.subplots(figsize=(5,5))\n",
    "    ax.plot(sol[:,0], sol[:,1])\n",
    "    ax.streamplot(X,Y,U,V)\n",
    "\n",
    "    formato_grafica(titulo='Comportamiento ODE', ejex= 'Tiempo', ejey= 'Funcion(t)', leyenda=False, xlim=[-w, w], ylim=[-w, w])\n",
    "\n",
    "interact(f, alpha=(0, 1, 0.1),t=(0,10,0.1))"
   ]
  },
  {
   "cell_type": "code",
   "execution_count": 61,
   "id": "c3ba70d8",
   "metadata": {},
   "outputs": [
    {
     "data": {
      "application/vnd.jupyter.widget-view+json": {
       "model_id": "f6fa1a7be4904670b5569305005de84b",
       "version_major": 2,
       "version_minor": 0
      },
      "text/plain": [
       "interactive(children=(FloatSlider(value=0.0, description='alpha', max=1.0), FloatSlider(value=10.0, descriptio…"
      ]
     },
     "metadata": {},
     "output_type": "display_data"
    },
    {
     "data": {
      "text/plain": [
       "<function __main__.f(alpha, t)>"
      ]
     },
     "execution_count": 61,
     "metadata": {},
     "output_type": "execute_result"
    }
   ],
   "source": [
    "import numpy as np\n",
    "import matplotlib.pyplot as plt\n",
    "from scipy.integrate import odeint\n",
    "from ipywidgets import interact\n",
    "\n",
    "# Definimos el sistema de ecuaciones diferenciales\n",
    "def sistema(y, t, alpha):\n",
    "    x, x_prime, y, y_prime = y\n",
    "    dxdt = -x_prime + x*(1-x**2-y**2)\n",
    "    dydt = -y_prime + y*(1-x**2-y**2)\n",
    "    dxdt_prime = alpha*x - alpha*(x**2 + y**2)*x - y\n",
    "    dydt_prime = alpha*y - alpha*(x**2 + y**2)*y + x\n",
    "    return [dxdt, dxdt_prime, dydt, dydt_prime]\n",
    "\n",
    "# Condiciones iniciales\n",
    "y0 = [0, 0, 1, 0]  # x(0) = 0, x'(0) = 0, y(0) = 1, y'(0) = 0\n",
    "\n",
    "# Definimos el tiempo de estudio (por ejemplo, de 0 a 10)\n",
    "t = np.linspace(0, 10, 1000)\n",
    "\n",
    "# Solucionamos el sistema de ecuaciones diferenciales\n",
    "def solucion(alpha):\n",
    "    sol = odeint(sistema, y0, t, args=(alpha,))\n",
    "    return sol\n",
    "\n",
    "# Definimos la función f para la gráfica interactiva\n",
    "def f(alpha, t):\n",
    "    tiempo = t\n",
    "    sol = solucion(alpha)\n",
    "    \n",
    "    w = 3\n",
    "    x = np.linspace(-w, w, 101)\n",
    "    y = np.linspace(-w, w, 101)\n",
    "    X, Y = np.meshgrid(x, y)\n",
    "    U = alpha*X - alpha*(X**2 + Y**2)*X - Y\n",
    "    V = alpha*Y - alpha*(X**2 + Y**2)*Y + X\n",
    "    \n",
    "    fig, ax = plt.subplots(figsize=(5,5))\n",
    "    ax.plot(sol[:, 0], sol[:, 2])  # Graficar la solución encontrada\n",
    "    ax.streamplot(X, Y, U, V)\n",
    "\n",
    "    formato_grafica(titulo='Comportamiento ODE', ejex= 'Tiempo', ejey= 'Funcion(t)', leyenda=False, xlim=[-w, w], ylim=[-w, w])\n",
    "    plt.show()\n",
    "\n",
    "# Desplegar gráfica interactiva\n",
    "interact(f, alpha=(0, 1, 0.1), t=(0, 10, 0.1))\n"
   ]
  }
 ],
 "metadata": {
  "kernelspec": {
   "display_name": "Python 3 (ipykernel)",
   "language": "python",
   "name": "python3"
  },
  "language_info": {
   "codemirror_mode": {
    "name": "ipython",
    "version": 3
   },
   "file_extension": ".py",
   "mimetype": "text/x-python",
   "name": "python",
   "nbconvert_exporter": "python",
   "pygments_lexer": "ipython3",
   "version": "3.9.12"
  }
 },
 "nbformat": 4,
 "nbformat_minor": 5
}
