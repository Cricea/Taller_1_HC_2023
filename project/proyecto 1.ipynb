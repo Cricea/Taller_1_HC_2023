{
 "cells": [
  {
   "cell_type": "markdown",
   "metadata": {},
   "source": [
    "![Alt text](image-1.png)\n",
    " ![Alt text](image.png)\n",
    "\n",
    " Kamila:202214959\n",
    " \n",
    " Cristian 202113643"
   ]
  },
  {
   "cell_type": "code",
   "execution_count": null,
   "metadata": {},
   "outputs": [],
   "source": []
  },
  {
   "cell_type": "code",
   "execution_count": 13,
   "metadata": {},
   "outputs": [
    {
     "data": {
      "text/html": [
       "<div>\n",
       "<style scoped>\n",
       "    .dataframe tbody tr th:only-of-type {\n",
       "        vertical-align: middle;\n",
       "    }\n",
       "\n",
       "    .dataframe tbody tr th {\n",
       "        vertical-align: top;\n",
       "    }\n",
       "\n",
       "    .dataframe thead th {\n",
       "        text-align: right;\n",
       "    }\n",
       "</style>\n",
       "<table border=\"1\" class=\"dataframe\">\n",
       "  <thead>\n",
       "    <tr style=\"text-align: right;\">\n",
       "      <th></th>\n",
       "      <th>nombre_puerto</th>\n",
       "      <th>Distancia[km]</th>\n",
       "      <th>Elevación máxima [msnm]</th>\n",
       "      <th>Elevación mínima [msnm]</th>\n",
       "      <th>Elevación ganada [msnm]</th>\n",
       "      <th>Pendiente promedio[%]</th>\n",
       "      <th>Mejor tiempo Strava [min]</th>\n",
       "    </tr>\n",
       "  </thead>\n",
       "  <tbody>\n",
       "    <tr>\n",
       "      <th>0</th>\n",
       "      <td>Alto de patios-Bogota</td>\n",
       "      <td>5.91</td>\n",
       "      <td>3022</td>\n",
       "      <td>2612</td>\n",
       "      <td>410</td>\n",
       "      <td>6.9</td>\n",
       "      <td>14.733</td>\n",
       "    </tr>\n",
       "    <tr>\n",
       "      <th>1</th>\n",
       "      <td>Alto de patios-Teusacá</td>\n",
       "      <td>2.98</td>\n",
       "      <td>3019</td>\n",
       "      <td>2818</td>\n",
       "      <td>233</td>\n",
       "      <td>6.7</td>\n",
       "      <td>6.400</td>\n",
       "    </tr>\n",
       "  </tbody>\n",
       "</table>\n",
       "</div>"
      ],
      "text/plain": [
       "            nombre_puerto  Distancia[km]  Elevación máxima [msnm]  \\\n",
       "0   Alto de patios-Bogota           5.91                     3022   \n",
       "1  Alto de patios-Teusacá           2.98                     3019   \n",
       "\n",
       "   Elevación mínima [msnm]  Elevación ganada [msnm]  Pendiente promedio[%]  \\\n",
       "0                     2612                      410                    6.9   \n",
       "1                     2818                      233                    6.7   \n",
       "\n",
       "   Mejor tiempo Strava [min]  \n",
       "0                     14.733  \n",
       "1                      6.400  "
      ]
     },
     "execution_count": 13,
     "metadata": {},
     "output_type": "execute_result"
    }
   ],
   "source": [
    "import pandas as pd\n",
    "\n",
    "puerto_e1={'nombre_puerto':'Alto de patios-Bogota',\n",
    "            'Distancia[km]':5.91,\n",
    "            'Elevación máxima [msnm]':3022,\n",
    "            'Elevación mínima [msnm]':2612,\n",
    "            'Elevación ganada [msnm]':410,\n",
    "            'Pendiente promedio[%]':6.9,\n",
    "            'Mejor tiempo Strava [min]':14.733}\n",
    "puerto_e2={'nombre_puerto':'Alto de patios-Teusacá',\n",
    "            'Distancia[km]':2.98,\n",
    "            'Elevación máxima [msnm]':3019,\n",
    "            'Elevación mínima [msnm]':2818,\n",
    "            'Elevación ganada [msnm]':233,\n",
    "            'Pendiente promedio[%]':6.7,\n",
    "            'Mejor tiempo Strava [min]':6.400}\n",
    "df=[puerto_e1,puerto_e2]\n",
    "df=pd.DataFrame(df)\n",
    "\n",
    "df"
   ]
  },
  {
   "cell_type": "code",
   "execution_count": null,
   "metadata": {},
   "outputs": [],
   "source": [
    "Vgs = #ground speed\n",
    "\n",
    "Cd_A= 0.35 #coeficiente de arrastre\n",
    "w = 83.50 # kg\n",
    "Vhw = 0\n",
    "Crr = 0.005 \n",
    "loss_dt= 2 #[%] \n",
    "p = 0 #de acuerdo a criterio ingenieril\n"
   ]
  }
 ],
 "metadata": {
  "kernelspec": {
   "display_name": "base",
   "language": "python",
   "name": "python3"
  },
  "language_info": {
   "codemirror_mode": {
    "name": "ipython",
    "version": 3
   },
   "file_extension": ".py",
   "mimetype": "text/x-python",
   "name": "python",
   "nbconvert_exporter": "python",
   "pygments_lexer": "ipython3",
   "version": "3.9.12"
  },
  "orig_nbformat": 4
 },
 "nbformat": 4,
 "nbformat_minor": 2
}
