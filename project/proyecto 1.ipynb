{
 "cells": [
  {
   "cell_type": "markdown",
   "metadata": {},
   "source": [
    "![Alt text](image-1.png)\n",
    " ![Alt text](image.png)\n",
    "\n",
    " Kamila:202214959\n",
    " \n",
    " Cristian 202113643"
   ]
  },
  {
   "cell_type": "code",
   "execution_count": null,
   "metadata": {},
   "outputs": [],
   "source": []
  },
  {
   "cell_type": "code",
   "execution_count": 1,
   "metadata": {},
   "outputs": [
    {
     "data": {
      "text/html": [
       "<div>\n",
       "<style scoped>\n",
       "    .dataframe tbody tr th:only-of-type {\n",
       "        vertical-align: middle;\n",
       "    }\n",
       "\n",
       "    .dataframe tbody tr th {\n",
       "        vertical-align: top;\n",
       "    }\n",
       "\n",
       "    .dataframe thead th {\n",
       "        text-align: right;\n",
       "    }\n",
       "</style>\n",
       "<table border=\"1\" class=\"dataframe\">\n",
       "  <thead>\n",
       "    <tr style=\"text-align: right;\">\n",
       "      <th></th>\n",
       "      <th>nombre_puerto</th>\n",
       "      <th>Distancia[km]</th>\n",
       "      <th>Elevación máxima [msnm]</th>\n",
       "      <th>Elevación mínima [msnm]</th>\n",
       "      <th>Elevación ganada [msnm]</th>\n",
       "      <th>Pendiente promedio[%]</th>\n",
       "      <th>Mejor tiempo Strava [min]</th>\n",
       "    </tr>\n",
       "  </thead>\n",
       "  <tbody>\n",
       "    <tr>\n",
       "      <th>0</th>\n",
       "      <td>Alto de patios-Bogota</td>\n",
       "      <td>5.91</td>\n",
       "      <td>3022</td>\n",
       "      <td>2612</td>\n",
       "      <td>410</td>\n",
       "      <td>6.9</td>\n",
       "      <td>14.733</td>\n",
       "    </tr>\n",
       "    <tr>\n",
       "      <th>1</th>\n",
       "      <td>Alto de patios-Teusacá</td>\n",
       "      <td>2.98</td>\n",
       "      <td>3019</td>\n",
       "      <td>2818</td>\n",
       "      <td>233</td>\n",
       "      <td>6.7</td>\n",
       "      <td>6.400</td>\n",
       "    </tr>\n",
       "  </tbody>\n",
       "</table>\n",
       "</div>"
      ],
      "text/plain": [
       "            nombre_puerto  Distancia[km]  Elevación máxima [msnm]  \\\n",
       "0   Alto de patios-Bogota           5.91                     3022   \n",
       "1  Alto de patios-Teusacá           2.98                     3019   \n",
       "\n",
       "   Elevación mínima [msnm]  Elevación ganada [msnm]  Pendiente promedio[%]  \\\n",
       "0                     2612                      410                    6.9   \n",
       "1                     2818                      233                    6.7   \n",
       "\n",
       "   Mejor tiempo Strava [min]  \n",
       "0                     14.733  \n",
       "1                      6.400  "
      ]
     },
     "execution_count": 1,
     "metadata": {},
     "output_type": "execute_result"
    }
   ],
   "source": [
    "import pandas as pd\n",
    "\n",
    "puerto_e1={'nombre_puerto':'Alto de patios-Bogota',\n",
    "            'Distancia[km]':5.91,\n",
    "            'Elevación máxima [msnm]':3022,\n",
    "            'Elevación mínima [msnm]':2612,\n",
    "            'Elevación ganada [msnm]':410,\n",
    "            'Pendiente promedio[%]':6.9,\n",
    "            'Mejor tiempo Strava [min]':14.733}\n",
    "puerto_e2={'nombre_puerto':'Alto de patios-Teusacá',\n",
    "            'Distancia[km]':2.98,\n",
    "            'Elevación máxima [msnm]':3019,\n",
    "            'Elevación mínima [msnm]':2818,\n",
    "            'Elevación ganada [msnm]':233,\n",
    "            'Pendiente promedio[%]':6.7,\n",
    "            'Mejor tiempo Strava [min]':6.400}\n",
    "df=[puerto_e1,puerto_e2]\n",
    "df=pd.DataFrame(df)\n",
    "\n",
    "df"
   ]
  },
  {
   "cell_type": "markdown",
   "metadata": {},
   "source": [
    "![Alt text](image-2.png)\n",
    "\n"
   ]
  },
  {
   "cell_type": "code",
   "execution_count": 2,
   "metadata": {},
   "outputs": [
    {
     "ename": "SyntaxError",
     "evalue": "invalid syntax (2990450665.py, line 1)",
     "output_type": "error",
     "traceback": [
      "\u001b[1;36m  Input \u001b[1;32mIn [2]\u001b[1;36m\u001b[0m\n\u001b[1;33m    Vgs = #ground speed\u001b[0m\n\u001b[1;37m          ^\u001b[0m\n\u001b[1;31mSyntaxError\u001b[0m\u001b[1;31m:\u001b[0m invalid syntax\n"
     ]
    }
   ],
   "source": [
    "Vgs = #ground speed\n",
    "Cd_A= 0.35 #coeficiente de arrastre\n",
    "w = 83.50 # kg\n",
    "Vhw = 0\n",
    "Crr = 0.005 \n",
    "loss_dt= 2 #[%] \n",
    "p = 0 #de acuerdo a criterio ingenieril\n",
    "C= (g*W*sin(alpha))+(g*w*cos(alpha)*Crr)\n",
    "Potencia=Vgs()"
   ]
  },
  {
   "cell_type": "code",
   "execution_count": 12,
   "metadata": {},
   "outputs": [
    {
     "data": {
      "image/png": "[encoded data removed]",
      "text/plain": [
       "<Figure size 720x432 with 1 Axes>"
      ]
     },
     "metadata": {
      "needs_background": "light"
     },
     "output_type": "display_data"
    }
   ],
   "source": [
    "#Intento 1\n",
    "import matplotlib.pyplot as plt\n",
    "\n",
    "# Valores iniciales\n",
    "CdA = 0.35\n",
    "W = 83.50  # kg\n",
    "V_hwww = 0  # m/s\n",
    "Cg = 0.005\n",
    "L_rrrr = 2  # %\n",
    "rho = 1.225  # kg/m^3\n",
    "g=9.81\n",
    "\n",
    "# Calcular la potencia promedio requerida\n",
    "df['Mejor tiempo Strava [s]'] = df['Mejor tiempo Strava [min]'] * 60\n",
    "df['Potencia Promedio [W]'] = ((1 - L_rrrr / 100) ** -1) * (g * W * (df['Elevación ganada [msnm]'] / df['Distancia[km]']) +\n",
    "        0.5 * CdA * rho * (df['Distancia[km]'] * 1000) * (df['Mejor tiempo Strava [s]'] / 3600 + V_hwww) ** 2\n",
    "    ) * (df['Distancia[km]'] * 1000) / (df['Mejor tiempo Strava [s]'] / 3600)\n",
    "\n",
    "# Graficar\n",
    "plt.figure(figsize=(10, 6))\n",
    "plt.plot(df['Mejor tiempo Strava [s]'], df['Potencia Promedio [W]'], color='blue')\n",
    "plt.title('Potencia Promedio vs Tiempo de Finalización de los Puertos')\n",
    "plt.xlabel('Tiempo de Finalización [s]')\n",
    "plt.ylabel('Potencia Promedio [W]')\n",
    "\n",
    "# Añadir etiquetas de los puertos\n",
    "for i, txt in enumerate(df['nombre_puerto']):\n",
    "    plt.annotate(txt, (df['Mejor tiempo Strava [s]'][i], df['Potencia Promedio [W]'][i]))\n",
    "\n",
    "plt.show()\n"
   ]
  },
  {
   "cell_type": "code",
   "execution_count": 7,
   "metadata": {},
   "outputs": [
    {
     "data": {
      "text/html": [
       "<div>\n",
       "<style scoped>\n",
       "    .dataframe tbody tr th:only-of-type {\n",
       "        vertical-align: middle;\n",
       "    }\n",
       "\n",
       "    .dataframe tbody tr th {\n",
       "        vertical-align: top;\n",
       "    }\n",
       "\n",
       "    .dataframe thead th {\n",
       "        text-align: right;\n",
       "    }\n",
       "</style>\n",
       "<table border=\"1\" class=\"dataframe\">\n",
       "  <thead>\n",
       "    <tr style=\"text-align: right;\">\n",
       "      <th></th>\n",
       "      <th>nombre_puerto</th>\n",
       "      <th>Tiempo Total [s]</th>\n",
       "    </tr>\n",
       "  </thead>\n",
       "  <tbody>\n",
       "    <tr>\n",
       "      <th>0</th>\n",
       "      <td>Alto de patios-Bogota</td>\n",
       "      <td>24.936709</td>\n",
       "    </tr>\n",
       "    <tr>\n",
       "      <th>1</th>\n",
       "      <td>Alto de patios-Teusacá</td>\n",
       "      <td>12.573840</td>\n",
       "    </tr>\n",
       "  </tbody>\n",
       "</table>\n",
       "</div>"
      ],
      "text/plain": [
       "            nombre_puerto  Tiempo Total [s]\n",
       "0   Alto de patios-Bogota         24.936709\n",
       "1  Alto de patios-Teusacá         12.573840"
      ]
     },
     "execution_count": 7,
     "metadata": {},
     "output_type": "execute_result"
    }
   ],
   "source": [
    "\"\"\"\n",
    "#potencia promedio del ciclista (237 W),utilizamos la ecuación de potencia para calcular el tiempo de finalización:\n",
    "\n",
    "Potencia Promedio = (Trabajo_Total)/(Tiempo_Total):\n",
    "\n",
    "Tiempo_total= (Trabajo_total)/(Potencia_promedio) \n",
    "            = (Distancia)/(Potencia_promedio)\n",
    "            = (Distancia)/237\n",
    " \n",
    "Vamos a calcular el tiempo de finalización para cada puerto:\n",
    "\"\"\"\n",
    "# Calcular tiempo de finalización para cada puerto\n",
    "df['Tiempo Total [s]'] = (df['Distancia[km]'] * 1000) / 237\n",
    "\n",
    "df[['nombre_puerto', 'Tiempo Total [s]']]\n"
   ]
  },
  {
   "cell_type": "code",
   "execution_count": 13,
   "metadata": {},
   "outputs": [],
   "source": [
    "# Intento 2\n",
    "import math\n",
    "\n",
    "# Variables\n",
    "weight = 70 # kg\n",
    "pendiente = 5 # %\n",
    "densidad = 1.2 # kg/m^3\n",
    "area = 0.5 # m^2\n",
    "coeficiente_resistencia_rodadura = 0.005\n",
    "coeficiente_arrastre = 0.7\n",
    "velocidad_viento = 0 # m/s\n",
    "\n",
    "# Fuerzas\n",
    "gravedad = 9.81 * weight * math.sin(math.atan(pendiente/100))\n",
    "fuerza_resistencia_rodadura = 9.81 * weight * math.cos(math.atan(pendiente/100)) * coeficiente_resistencia_rodadura\n",
    "fuerza_arrastre = 0.5 * coeficiente_arrastre * area * densidad * (velocidad_viento**2) / (1.0**2)\n",
    "\n",
    "total_force = gravedad + fuerza_resistencia_rodadura + fuerza_arrastre\n",
    "\n",
    "# Calculo potencia requerida\n",
    "ground_speed = 10 # m/s\n",
    "power_required = total_force * ground_speed\n",
    "\n",
    "# Calculo eficiencia\n",
    "powertrain_efficiency = 0.95\n",
    "\n",
    "# Calculo potencia en los pedales\n",
    "power_at_pedals = power_required / (1 - powertrain_efficiency/100)\n",
    "\n",
    "\n",
    "p_l = power_at_pedals / (ground_speed**3)\n",
    "\n"
   ]
  }
 ],
 "metadata": {
  "kernelspec": {
   "display_name": "base",
   "language": "python",
   "name": "python3"
  },
  "language_info": {
   "codemirror_mode": {
    "name": "ipython",
    "version": 3
   },
   "file_extension": ".py",
   "mimetype": "text/x-python",
   "name": "python",
   "nbconvert_exporter": "python",
   "pygments_lexer": "ipython3",
   "version": "3.9.12"
  },
  "orig_nbformat": 4
 },
 "nbformat": 4,
 "nbformat_minor": 2
}
