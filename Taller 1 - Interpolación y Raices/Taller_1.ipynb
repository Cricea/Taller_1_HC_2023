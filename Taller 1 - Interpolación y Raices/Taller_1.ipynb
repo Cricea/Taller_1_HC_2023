{
 "cells": [
  {
   "cell_type": "markdown",
   "metadata": {},
   "source": [
    "- Nombre 1: Cristian Camilo Espejo \n",
    "- Nombre 2: Maria Kamila Castro"
   ]
  },
  {
   "attachments": {},
   "cell_type": "markdown",
   "metadata": {},
   "source": [
    "\n",
    "<p>\n",
    "<img src=./img/Logo_Uniandes.svg width=\"20%\">\n",
    "</p>\n",
    "\n",
    "# Departamento de Ingeniería Mecánica\n",
    "## IMEC 2001 - Herramientas Computacionales\n",
    "### Taller 1 - Interpolación y Raices\n",
    "\n",
    "----\n",
    "### **<span style=\"color:#A1CCD1;\">Condiciones de la entrega </span>**\n",
    "----\n",
    "**1. Fechas de entrega:**\n",
    "- Nota sobre 5.00 ->  <span style=\"color:red;\">3 de Septiembre a las 23:59, 2023</span>\n",
    "- Nota sobre 4.00 ->  <span style=\"color:red;\">4 de Septiembre a las 23:59, 2023</span>\n",
    "\n",
    "**2. Colocar el nombre de los integrantes en la casilla correspondiente<br>**\n",
    "**3. La entrega del taller es por Bloque Neon y se envía el archivo en formato de Jupyter Notebook (extensión `.ipynb`)<br>**\n",
    "**4. El nombre del archivo debe ser:** \n",
    "- Si trabajó en parejas:`T#_ApellidosIntegrante1_ApellidosIntegrante2` (Ej: `T#_Salamanca_VargasTorres`)\n",
    "- Si trabajó individual: `T#_Apellido` (Ej: `T#_VargasTorres`)\n",
    "\n",
    "**5. Comente el código con el proceso que realizó para llegar a la solución.<br>**\n",
    "**6. <span style=\"color:red;\"> Si se detecta copia con otro de los talleres enviados, automáticamente la nota para los grupos involucrados es 0. </span>**\n",
    "\n",
    "\n",
    "----\n",
    "### **<span style=\"color:#A1CCD1;\">Condiciones para el segundo envío </span>**\n",
    "----\n",
    "<div class='alert alert-block alert-info'>   \n",
    "\n",
    "<i class='fa fa-info-circle' aria-hidden='true'></i>\n",
    "Para poder realizar un segundo envío con correcciones, la nota del **primer envío** debe estar mínimo en **Aprendiz**.\n",
    "</div>\n",
    "\n",
    "----\n",
    "### **Tabla de contenido**\n",
    "----\n",
    "### Sección 1: Interpolación [→](#section1)\n",
    "- 1.1. Punto 1: Interpolación puntos aleatorios\n",
    "- 1.2. <font color=\"#276C9B\"> Punto 2: Interpolación ciencia de materiales </font> [→](#exercise1)\n",
    "\n",
    "### Sección 2: Raíces – Solución de Ecuaciones No Lineales [→](#section2)\n",
    "- 2.1. Raices identificando los puntos \n",
    "- 2.2. Esfuerzo de fluencia\n"
   ]
  },
  {
   "cell_type": "code",
   "execution_count": 8,
   "metadata": {},
   "outputs": [],
   "source": [
    "# Importar librerías\n",
    "import pandas as pd\n",
    "import numpy as np\n",
    "import matplotlib.pyplot as plt"
   ]
  },
  {
   "cell_type": "code",
   "execution_count": 9,
   "metadata": {},
   "outputs": [],
   "source": [
    "# No edite este código\n",
    "def formato_grafica(ax, fig, titulo= \"\", x_label= \"\", y_label= \"\", leyenda=False, xlim=[None, None], ylim=[None, None]):\n",
    "    \n",
    "    ax.set_title(titulo)\n",
    "    ax.set_xlabel(x_label)\n",
    "    ax.set_ylabel(y_label)\n",
    "    \n",
    "    ax.tick_params(direction='out', length=5, width=0.75, grid_alpha=0.3)\n",
    "    \n",
    "    # Utilizarlo si se necesita alguna rotación en los labels de los ejes\n",
    "#     ax.set_xticklabels(ax.get_xticks(), rotation = 0)\n",
    "#     ax.set_yticklabels(ax.get_yticks(), rotation = 0)\n",
    "    ax.set_xlim(xlim[0], xlim[1])\n",
    "    ax.set_ylim(ylim[0], ylim[1])\n",
    "\n",
    "    # Grid de la gráfica\n",
    "    ax.grid(True)\n",
    "    ax.grid(visible=True, which='major', color='grey', linestyle='-')\n",
    "    ax.minorticks_on()\n",
    "    ax.grid(visible=True, which='minor', color='lightgrey', linestyle='-', alpha=0.2)\n",
    "\n",
    "    if leyenda == True:\n",
    "        ax.legend(loc='best', fontsize= 7)\n",
    "\n",
    "    fig.tight_layout()\n",
    "\n"
   ]
  },
  {
   "cell_type": "markdown",
   "metadata": {},
   "source": [
    "## **Punto 1 - Sección Interpolación**\n",
    "----\n",
    "<div class='alert alert-block alert-info'>   \n",
    "\n",
    "<i class='fa fa-info-circle' aria-hidden='true'></i>\n",
    "A continuación tiene 3 conjuntos de datos para los cuales debe:\n",
    "1. Utiliza la función de numpy np.arange para generar los puntos x de cada conjunto, estos van de 0 a la longitud de cada uno. \n",
    "2. Grafique cada conjunto de datos utilizando [``plt.scatter()``](https://realpython.com/visualizing-python-plt-scatter/)\n",
    "3. Como puede observar, cada gráfica tiene un comportamiento diferente, teniendo que hay un método de interpolación que da una mejor aproximación. Seleccione **3** métodos de interpolación **uno** para cada conjunto de datos (deben ser distintos) y realice la interpolación. \n",
    "4. Grafique en un subplot los puntos que utilizó para la interpolación y los que obtuvo para cada conjunto. \n",
    "\n",
    "**Bono:** Para el punto 3 utilizar las funciones de las interpolaciones en una función, intente generalizarla (que funcione para cualqueir caso). Siga el siguiente formato:\n",
    "``` Python\n",
    "def fun_1(param_1: tipo, param_2: tipo, ....)-> tipo que se retorna:\n",
    "    \"\"\"\n",
    "    Descripción de la función\n",
    "\n",
    "    Parameters\n",
    "    ----------\n",
    "    param_1 : tipo\n",
    "        Descripción del parámetro\n",
    "    param_2 : tipo\n",
    "        Descripción del parámetro\n",
    "\n",
    "    Returns\n",
    "    -------\n",
    "    variable : tipo\n",
    "        Descripción de la variable \n",
    "    \"\"\"\n",
    "    Variables y operaciones con el método de interpolación seleccionado\n",
    "```\n",
    "</div>\n",
    "\n"
   ]
  },
  {
   "cell_type": "code",
   "execution_count": 10,
   "metadata": {},
   "outputs": [],
   "source": [
    "# Conjuntos de datos\n",
    "datos_1 = np.array([  0. ,   62.5,  250. ,  562.5, 1000.])\n",
    "datos_2 = np.array([0.00000000e+00, 9.82812500e+02, 3.12750000e+04, 2.37360938e+05,\n",
    "                    1.00010000e+06, 3.05191406e+06, 7.59397500e+06, 1.64133922e+07,\n",
    "                    3.20004000e+07])\n",
    "datos_3 = np.array([0.        ,   6.12244898,  12.24489796,  18.36734694,\n",
    "                    24.48979592,  30.6122449 ,  36.73469388,  42.85714286,\n",
    "                    48.97959184,  55.10204082,  61.2244898 ,  67.34693878,\n",
    "                    73.46938776,  79.59183673,  85.71428571,  91.83673469,\n",
    "                    97.95918367, 104.08163265, 110.20408163])"
   ]
  },
  {
   "cell_type": "code",
   "execution_count": 11,
   "metadata": {},
   "outputs": [],
   "source": [
    "# 1.1. Generar puntos en x\n",
    "datosx_1= np.arange (0,len(datos_1))\n",
    "datosx_2 = np.arange(0,len(datos_2))\n",
    "datosx_3 = np.arange(0,len(datos_3))"
   ]
  },
  {
   "cell_type": "code",
   "execution_count": 12,
   "metadata": {},
   "outputs": [
    {
     "data": {
      "text/plain": [
       "Text(0.5, 1.0, 'Datos 3')"
      ]
     },
     "execution_count": 12,
     "metadata": {},
     "output_type": "execute_result"
    },
    {
     "data": {
      "image/png": "[encoded data removed]",
      "text/plain": [
       "<Figure size 1600x500 with 3 Axes>"
      ]
     },
     "metadata": {},
     "output_type": "display_data"
    }
   ],
   "source": [
    "# 1.2. Gráficar en un subplot 3 columnas - 1 fila \n",
    "fig, ax = plt.subplots(1, 3, figsize=(16,5))\n",
    "ax[0].scatter(x= datosx_1,y= datos_1, color='orange')\n",
    "ax[0].set_title('Datos 1')\n",
    "ax[1].scatter(x= datosx_2,y= datos_2, color='#FA8072')\n",
    "ax[1].set_title('Datos 2')\n",
    "ax[2].scatter(x= datosx_3,y= datos_3, color='#BC8F8F')\n",
    "ax[2].set_title('Datos 3')"
   ]
  },
  {
   "cell_type": "code",
   "execution_count": 13,
   "metadata": {},
   "outputs": [],
   "source": [
    "# Importar librerías para la interpolación\n",
    "from scipy.interpolate import lagrange\n",
    "from scipy.interpolate import interp1d\n",
    "from scipy.interpolate import InterpolatedUnivariateSpline"
   ]
  },
  {
   "cell_type": "code",
   "execution_count": 14,
   "metadata": {},
   "outputs": [],
   "source": [
    "# 1.3. Métodod interpolación\n",
    "#lagrange\n",
    "#interp1d\n",
    "#InterpolatedUnivariateSpline"
   ]
  },
  {
   "cell_type": "code",
   "execution_count": 15,
   "metadata": {},
   "outputs": [],
   "source": [
    "# Interpolación datos 1\n",
    "inter_1 = lagrange(datosx_1, datos_1)\n",
    "\n",
    "# Interpolación datos 2\n",
    "inter_2 = interp1d(datosx_2, datos_2)\n",
    "\n",
    "# Interpolación datos 3\n",
    "inter_3 = InterpolatedUnivariateSpline(datosx_3,datos_3,k=5)"
   ]
  },
  {
   "cell_type": "code",
   "execution_count": 16,
   "metadata": {},
   "outputs": [
    {
     "data": {
      "text/plain": [
       "Text(0.5, 1.0, 'Datos 3')"
      ]
     },
     "execution_count": 16,
     "metadata": {},
     "output_type": "execute_result"
    },
    {
     "data": {
      "image/png": "[encoded data removed]",
      "text/plain": [
       "<Figure size 1600x500 with 3 Axes>"
      ]
     },
     "metadata": {},
     "output_type": "display_data"
    }
   ],
   "source": [
    "# 1.4. Gráficar los datos interpolados \n",
    "fig, ax = plt.subplots(1,3,figsize=(16,5))\n",
    "ax[0].scatter(datosx_1, datos_1, color='#FF4500')\n",
    "ax[0].plot(datosx_1,inter_1(datosx_1),color=\"orange\")\n",
    "ax[0].set_title('Datos 1')\n",
    "ax[1].scatter(datosx_2, datos_2, color='#8B0000')\n",
    "ax[1].plot(datosx_2,inter_2(datosx_2),color='#FA8072')\n",
    "ax[1].set_title('Datos 2')\n",
    "ax[2].scatter(datosx_3, datos_3, color='#9932CC')\n",
    "ax[2].plot(datosx_3,inter_3(datosx_3),color='#BC8F8F')\n",
    "ax[2].set_title('Datos 3')"
   ]
  },
  {
   "attachments": {},
   "cell_type": "markdown",
   "metadata": {},
   "source": [
    "----\n",
    "## Punto 2\n",
    "----\n",
    "\n",
    "Algunas de las cargas que se pueden encontrar en la ingeniería son de tensión, compresión, torsión y cortante, para el taller se trabajará con el primero. Una de las pruebas que se le realizan a los materiales es la prueba de tensión en donde se deforma la probeta aplicando una carga axial hasta que se llega a la fractura como se muestra en la siguiente imagen:\n",
    "\n",
    "\n",
    "<p align=\"center\">\n",
    "<img src=./img/ensayo_tension.jpg width=\"20%\">\n",
    "</p>\n",
    "\n",
    "Ahora, se quiere encontrar el esfuerzo de tracción, el cual está definido como:\n",
    "$$\\sigma = \\frac{F}{A_0}$$\n",
    "\n",
    "Siendo $F$ la fuerza que está siendo aplicada y $A$ el área de la sección transversal, de la cual su fórmula para este caso está dada por:\n",
    "\n",
    "$$A_0 = \\pi r^2$$\n",
    "<p align=\"center\">\n",
    "<img src=./img/tension.jpg width=\"20%\">\n",
    "</p>\n",
    "\n",
    "Ahora, para la deformación unitaria, definida como el cambio entre la longitud inicial y la final, sobre la inicial:\n",
    "\n",
    "$$\\epsilon = \\frac{l_i - l_0}{l_0} $$\n",
    "\n",
    "\n",
    "<div class='alert alert-block alert-info'>   \n",
    "\n",
    "<i class='fa fa-info-circle' aria-hidden='true'></i>\n",
    "Se quiere reconstruir la curva de Esfuerzo - Deformación del aluminio 6063, la probeta tiene un diámetro de 9 mm y una longitud inicial de 25 mm. \n",
    "\n",
    "Como puede observar, se tienen comportamientos distintos en cada una de las secciones, al igual que en el ejercicio anterior, debe poder recrear la curva utilizando las diferentes funciones de interpolación (si realizó las funciones de la sección pasada las puede utilizar en este punto). Los datos que se suministran para el ejercicio son de fuerza, el tiempo y la extensión de tracción medida por el equipo. \n",
    "\n",
    "**2.1. Importe el csv que se encuentra en el repositorio**\n",
    "- Tenga en cuenta que se tienen dos headers, revise la documentación para presentar un dataFrame con ambos. \n",
    "- Agregue **encoding='utf-8'** para que se cargue correctamente el archivo. \n",
    "\n",
    "**2.2. Creación DataFrame <br>**\n",
    "- Con los datos dados cree un DataFrame con los cuales sus columnas sean: (Fuerza, Deformación).\n",
    "- Encuentre el esfuerzo y la deformación **unitaria** de los datos dados con las fórmulas dadas, estos datos deben quedar en el DataFrame creado como nuevas columnas. \n",
    "- **Importante:** Para la deformación unitaria ya se le dan los datos de cuánto se deformó por lo que debe tomar la longitud inicial y dividirla entre el número respectivo. \n",
    "\n",
    "**2.3. Grafique los puntos y comente cuáles funciones junto con su librería utilizaría para interpolar cada sección junto con una justificación <br>**\n",
    "**2.4. Interpole los datos <br>**\n",
    "**2.5. Grafique la curva con los datos dados y la de los datos del csv.**\n",
    "- Con esto puede comprobar si su interpolación fue correcta y se acerca a la original.\n",
    "\n",
    "\n",
    "**Recomendaciones:**\n",
    "- Divida correctamente los datos para cada sección. \n",
    "\n",
    "</div>\n"
   ]
  },
  {
   "cell_type": "code",
   "execution_count": 17,
   "metadata": {},
   "outputs": [
    {
     "data": {
      "text/html": [
       "<div>\n",
       "<style scoped>\n",
       "    .dataframe tbody tr th:only-of-type {\n",
       "        vertical-align: middle;\n",
       "    }\n",
       "\n",
       "    .dataframe tbody tr th {\n",
       "        vertical-align: top;\n",
       "    }\n",
       "\n",
       "    .dataframe thead th {\n",
       "        text-align: right;\n",
       "    }\n",
       "</style>\n",
       "<table border=\"1\" class=\"dataframe\">\n",
       "  <thead>\n",
       "    <tr style=\"text-align: right;\">\n",
       "      <th></th>\n",
       "      <th>Tiempo</th>\n",
       "      <th>Carga</th>\n",
       "      <th>Extensión de tracción</th>\n",
       "    </tr>\n",
       "  </thead>\n",
       "  <tbody>\n",
       "    <tr>\n",
       "      <th>0</th>\n",
       "      <td>(s)</td>\n",
       "      <td>(N)</td>\n",
       "      <td>(mm)</td>\n",
       "    </tr>\n",
       "    <tr>\n",
       "      <th>1</th>\n",
       "      <td>0</td>\n",
       "      <td>-0.00466</td>\n",
       "      <td>-0.00006</td>\n",
       "    </tr>\n",
       "    <tr>\n",
       "      <th>2</th>\n",
       "      <td>0.1</td>\n",
       "      <td>78.85341</td>\n",
       "      <td>0.00041</td>\n",
       "    </tr>\n",
       "    <tr>\n",
       "      <th>3</th>\n",
       "      <td>0.2</td>\n",
       "      <td>286.87579</td>\n",
       "      <td>0.00162</td>\n",
       "    </tr>\n",
       "    <tr>\n",
       "      <th>4</th>\n",
       "      <td>0.3</td>\n",
       "      <td>443.49634</td>\n",
       "      <td>0.00261</td>\n",
       "    </tr>\n",
       "  </tbody>\n",
       "</table>\n",
       "</div>"
      ],
      "text/plain": [
       "  Tiempo      Carga Extensión de tracción\n",
       "0    (s)        (N)                  (mm)\n",
       "1      0   -0.00466              -0.00006\n",
       "2    0.1   78.85341               0.00041\n",
       "3    0.2  286.87579               0.00162\n",
       "4    0.3  443.49634               0.00261"
      ]
     },
     "execution_count": 17,
     "metadata": {},
     "output_type": "execute_result"
    }
   ],
   "source": [
    "# 1. Importe los datos del csv [Tenga en cuenta que se tienen 2 headers]\n",
    "#!pip install pandas\n",
    "encoding='utf-8'\n",
    "import pandas as pd\n",
    "file_name = ('Aluminio_6063.csv')\n",
    "df = pd.read_csv(file_name)\n",
    "df.head()"
   ]
  },
  {
   "cell_type": "markdown",
   "metadata": {},
   "source": []
  },
  {
   "cell_type": "code",
   "execution_count": 18,
   "metadata": {},
   "outputs": [],
   "source": [
    "# 2. Datos iniciales\n",
    "diametro=9#mm\n",
    "long_ini=25#mm\n",
    "df=df.drop(df.index[[0]])"
   ]
  },
  {
   "cell_type": "code",
   "execution_count": 19,
   "metadata": {},
   "outputs": [
    {
     "data": {
      "text/plain": [
       "63.61725123519331"
      ]
     },
     "execution_count": 19,
     "metadata": {},
     "output_type": "execute_result"
    }
   ],
   "source": [
    "# 3. Calcular área\n",
    "import numpy as np\n",
    "pi=np.pi\n",
    "area=(pi/4)*diametro**2 \n",
    "area#mm^2"
   ]
  },
  {
   "cell_type": "code",
   "execution_count": 20,
   "metadata": {},
   "outputs": [
    {
     "data": {
      "text/html": [
       "<div>\n",
       "<style scoped>\n",
       "    .dataframe tbody tr th:only-of-type {\n",
       "        vertical-align: middle;\n",
       "    }\n",
       "\n",
       "    .dataframe tbody tr th {\n",
       "        vertical-align: top;\n",
       "    }\n",
       "\n",
       "    .dataframe thead th {\n",
       "        text-align: right;\n",
       "    }\n",
       "</style>\n",
       "<table border=\"1\" class=\"dataframe\">\n",
       "  <thead>\n",
       "    <tr style=\"text-align: right;\">\n",
       "      <th></th>\n",
       "      <th>Tiempo</th>\n",
       "      <th>Carga</th>\n",
       "      <th>Extensión de tracción</th>\n",
       "      <th>Esfuerzo</th>\n",
       "      <th>Deformación Unitaria</th>\n",
       "    </tr>\n",
       "  </thead>\n",
       "  <tbody>\n",
       "    <tr>\n",
       "      <th>1</th>\n",
       "      <td>0</td>\n",
       "      <td>-0.00466</td>\n",
       "      <td>-0.00006</td>\n",
       "      <td>-0.000073</td>\n",
       "      <td>-0.000002</td>\n",
       "    </tr>\n",
       "    <tr>\n",
       "      <th>2</th>\n",
       "      <td>0.1</td>\n",
       "      <td>78.85341</td>\n",
       "      <td>0.00041</td>\n",
       "      <td>1.239497</td>\n",
       "      <td>0.000016</td>\n",
       "    </tr>\n",
       "    <tr>\n",
       "      <th>3</th>\n",
       "      <td>0.2</td>\n",
       "      <td>286.87579</td>\n",
       "      <td>0.00162</td>\n",
       "      <td>4.509402</td>\n",
       "      <td>0.000065</td>\n",
       "    </tr>\n",
       "    <tr>\n",
       "      <th>4</th>\n",
       "      <td>0.3</td>\n",
       "      <td>443.49634</td>\n",
       "      <td>0.00261</td>\n",
       "      <td>6.971322</td>\n",
       "      <td>0.000104</td>\n",
       "    </tr>\n",
       "    <tr>\n",
       "      <th>5</th>\n",
       "      <td>0.4</td>\n",
       "      <td>594.50763</td>\n",
       "      <td>0.00342</td>\n",
       "      <td>9.345069</td>\n",
       "      <td>0.000137</td>\n",
       "    </tr>\n",
       "    <tr>\n",
       "      <th>...</th>\n",
       "      <td>...</td>\n",
       "      <td>...</td>\n",
       "      <td>...</td>\n",
       "      <td>...</td>\n",
       "      <td>...</td>\n",
       "    </tr>\n",
       "    <tr>\n",
       "      <th>1321</th>\n",
       "      <td>132</td>\n",
       "      <td>5899.48535</td>\n",
       "      <td>8.38014</td>\n",
       "      <td>92.734050</td>\n",
       "      <td>0.335206</td>\n",
       "    </tr>\n",
       "    <tr>\n",
       "      <th>1322</th>\n",
       "      <td>132.10001</td>\n",
       "      <td>5606.58936</td>\n",
       "      <td>8.38855</td>\n",
       "      <td>88.130016</td>\n",
       "      <td>0.335542</td>\n",
       "    </tr>\n",
       "    <tr>\n",
       "      <th>1323</th>\n",
       "      <td>132.2</td>\n",
       "      <td>5305.30371</td>\n",
       "      <td>8.39691</td>\n",
       "      <td>83.394105</td>\n",
       "      <td>0.335876</td>\n",
       "    </tr>\n",
       "    <tr>\n",
       "      <th>1324</th>\n",
       "      <td>132.3</td>\n",
       "      <td>4989.75439</td>\n",
       "      <td>8.40521</td>\n",
       "      <td>78.433983</td>\n",
       "      <td>0.336208</td>\n",
       "    </tr>\n",
       "    <tr>\n",
       "      <th>1325</th>\n",
       "      <td>132.388</td>\n",
       "      <td>2849.62891</td>\n",
       "      <td>8.41325</td>\n",
       "      <td>44.793336</td>\n",
       "      <td>0.336530</td>\n",
       "    </tr>\n",
       "  </tbody>\n",
       "</table>\n",
       "<p>1325 rows × 5 columns</p>\n",
       "</div>"
      ],
      "text/plain": [
       "         Tiempo       Carga Extensión de tracción   Esfuerzo  \\\n",
       "1             0    -0.00466              -0.00006  -0.000073   \n",
       "2           0.1    78.85341               0.00041   1.239497   \n",
       "3           0.2   286.87579               0.00162   4.509402   \n",
       "4           0.3   443.49634               0.00261   6.971322   \n",
       "5           0.4   594.50763               0.00342   9.345069   \n",
       "...         ...         ...                   ...        ...   \n",
       "1321        132  5899.48535               8.38014  92.734050   \n",
       "1322  132.10001  5606.58936               8.38855  88.130016   \n",
       "1323      132.2  5305.30371               8.39691  83.394105   \n",
       "1324      132.3  4989.75439               8.40521  78.433983   \n",
       "1325    132.388  2849.62891               8.41325  44.793336   \n",
       "\n",
       "      Deformación Unitaria  \n",
       "1                -0.000002  \n",
       "2                 0.000016  \n",
       "3                 0.000065  \n",
       "4                 0.000104  \n",
       "5                 0.000137  \n",
       "...                    ...  \n",
       "1321              0.335206  \n",
       "1322              0.335542  \n",
       "1323              0.335876  \n",
       "1324              0.336208  \n",
       "1325              0.336530  \n",
       "\n",
       "[1325 rows x 5 columns]"
      ]
     },
     "execution_count": 20,
     "metadata": {},
     "output_type": "execute_result"
    }
   ],
   "source": [
    "# 4. Encontrar esfuerzo y deformación  [Se deja el DataFrame con un header]\n",
    "esfuerzos=[]\n",
    "deformaciones=[]\n",
    "for i in df['Carga'].iloc():\n",
    "        esfuerzo=(float(i)/area)\n",
    "        esfuerzos.append(esfuerzo)\n",
    "for i in df['Extensión de tracción']:\n",
    "        deformacion=(float(i)/long_ini)\n",
    "        deformaciones.append(deformacion)\n",
    "df['Esfuerzo']=esfuerzos\n",
    "df['Deformación Unitaria']=deformaciones\n",
    "df"
   ]
  },
  {
   "cell_type": "code",
   "execution_count": 51,
   "metadata": {},
   "outputs": [
    {
     "data": {
      "image/png": "[encoded data removed]",
      "text/plain": [
       "<Figure size 800x500 with 1 Axes>"
      ]
     },
     "metadata": {},
     "output_type": "display_data"
    }
   ],
   "source": [
    "# 5. Gráfica esfuerzo vs deformación \n",
    "%matplotlib inline\n",
    "hor = 8\n",
    "ver = 5\n",
    "plt.figure(figsize=(hor, ver))\n",
    "plt.plot(df['Deformación Unitaria'],df['Esfuerzo'])\n",
    "plt.xlabel('Deformación Unitaria [mm/mm]')\n",
    "plt.ylabel('Esfuerzo [Mpa]')\n",
    "plt.title(\"Esfuerzo vs Deformación\")\n",
    "plt.tick_params(direction='out', length=5, width=0.75, grid_alpha=0.3)\n",
    "plt.xticks(rotation=0)\n",
    "plt.minorticks_on()\n",
    "plt.grid(visible=True, which='major', color='grey', linestyle='-')\n",
    "plt.grid(visible=True, which='minor', color='lightgrey', linestyle='-', alpha=0.2)\n",
    "plt.tight_layout;\n",
    "#plt.savefig('./plot.png', dpi=400, bbox_inches='tight')\n"
   ]
  },
  {
   "attachments": {},
   "cell_type": "markdown",
   "metadata": {},
   "source": [
    "Para realizar la división del conjunto de datos utilice la siguiente función, tenga en cuenta que este es un ejemplo, debe especificar los límites:\n",
    "\n",
    "``` pyhton\n",
    "\n",
    "df[df.apply(lambda x: num_sup >= x['Deformación']>= num_inf axis=1)]\n",
    "```\n"
   ]
  },
  {
   "cell_type": "code",
   "execution_count": 23,
   "metadata": {},
   "outputs": [
    {
     "name": "stdout",
     "output_type": "stream",
     "text": [
      "<class 'pandas.core.frame.DataFrame'>\n"
     ]
    }
   ],
   "source": [
    "# Conjuntos de datos \n",
    "conj_1=df[df.apply(lambda x: 0.05 >= x['Deformación Unitaria']>= 0 , axis=1)]\n",
    "print(type(conj_1))\n",
    "conj_2=df[df.apply(lambda x: 0.2 >= x['Deformación Unitaria']>= 0.1 , axis=1)]\n",
    "\n",
    "conj_3=df[df.apply(lambda x: 0.3 >= x['Deformación Unitaria']>= 0.2 , axis=1)]\n"
   ]
  },
  {
   "cell_type": "code",
   "execution_count": 73,
   "metadata": {},
   "outputs": [
    {
     "data": {
      "image/png": "[encoded data removed]",
      "text/plain": [
       "<Figure size 1600x400 with 3 Axes>"
      ]
     },
     "metadata": {},
     "output_type": "display_data"
    }
   ],
   "source": [
    "# Subplot (1x3) de cada tramo\n",
    "fig, ax = plt.subplots(1,3,figsize=(16,4)) \n",
    "#conjunto 1\n",
    "#plt.figure(figsize=(hor,ver))\n",
    "ax[0].plot(conj_1['Deformación Unitaria'],conj_1['Esfuerzo'])\n",
    "ax[0].set_xlabel('Deformación Unitaria [mm/mm]')\n",
    "ax[0].set_ylabel('Esfuerzo [Mpa]')\n",
    "ax[0].set_title(\"Esfuerzo vs Deformación Conjunto 1\")\n",
    "ax[0].tick_params(direction='out', length=5, width=0.75, grid_alpha=0.3)\n",
    "#ax[0].xticks(rotation=0)\n",
    "#ax[0].minorticks_on()\n",
    "ax[0].grid(visible=True, which='major', color='grey', linestyle='-')\n",
    "ax[0].grid(visible=True, which='minor', color='lightgrey', linestyle='-', alpha=0.2)\n",
    "plt.tight_layout;\n",
    "\n",
    "#conjunto 2\n",
    "#ax[1].plt.figure(figsize=(hor,ver))\n",
    "ax[1].plot(conj_2['Deformación Unitaria'],conj_2['Esfuerzo'])\n",
    "ax[1].set_xlabel('Deformación Unitaria [mm/mm]')\n",
    "ax[1].set_ylabel('Esfuerzo [Mpa]')\n",
    "ax[1].set_title(\"Esfuerzo vs Deformación Conjunto 2\")\n",
    "ax[1].tick_params(direction='out', length=5, width=0.75, grid_alpha=0.3)\n",
    "#ax[1].plt.xticks(rotation=0)\n",
    "#ax[1].plt.minorticks_on()\n",
    "ax[1].grid(visible=True, which='major', color='grey', linestyle='-')\n",
    "ax[1].grid(visible=True, which='minor', color='lightgrey', linestyle='-', alpha=0.2)\n",
    "plt.tight_layout;\n",
    "\n",
    "#conjunto 3\n",
    "#plt.figure(figsize=(hor,ver))\n",
    "ax[2].plot(conj_3['Deformación Unitaria'],conj_3['Esfuerzo'])\n",
    "ax[2].set_xlabel('Deformación Unitaria [mm/mm]')\n",
    "ax[2].set_ylabel('Esfuerzo [Mpa]')\n",
    "ax[2].set_title(\"Esfuerzo vs Deformación Conjunto 3\")\n",
    "ax[2].tick_params(direction='out', length=5, width=0.75, grid_alpha=0.3)\n",
    "#ax[2].plt.xticks(rotation=0)\n",
    "#ax[2].plt.minorticks_on()\n",
    "ax[2].grid(visible=True, which='major', color='grey', linestyle='-')\n",
    "ax[2].grid(visible=True, which='minor', color='lightgrey', linestyle='-', alpha=0.2)\n",
    "plt.tight_layout;"
   ]
  },
  {
   "cell_type": "code",
   "execution_count": 25,
   "metadata": {},
   "outputs": [],
   "source": [
    "# Selección de las columnas de interés ¿Cuáles son?\n",
    "#'Deformación Unitaria' & 'Esfuerzo'"
   ]
  },
  {
   "cell_type": "code",
   "execution_count": 26,
   "metadata": {},
   "outputs": [
    {
     "data": {
      "text/html": [
       "<div>\n",
       "<style scoped>\n",
       "    .dataframe tbody tr th:only-of-type {\n",
       "        vertical-align: middle;\n",
       "    }\n",
       "\n",
       "    .dataframe tbody tr th {\n",
       "        vertical-align: top;\n",
       "    }\n",
       "\n",
       "    .dataframe thead th {\n",
       "        text-align: right;\n",
       "    }\n",
       "</style>\n",
       "<table border=\"1\" class=\"dataframe\">\n",
       "  <thead>\n",
       "    <tr style=\"text-align: right;\">\n",
       "      <th></th>\n",
       "      <th>Deformación Unitaria</th>\n",
       "      <th>Esfuerzo</th>\n",
       "    </tr>\n",
       "  </thead>\n",
       "  <tbody>\n",
       "    <tr>\n",
       "      <th>2</th>\n",
       "      <td>0.000016</td>\n",
       "      <td>1.239497</td>\n",
       "    </tr>\n",
       "    <tr>\n",
       "      <th>3</th>\n",
       "      <td>0.000065</td>\n",
       "      <td>4.509402</td>\n",
       "    </tr>\n",
       "    <tr>\n",
       "      <th>4</th>\n",
       "      <td>0.000104</td>\n",
       "      <td>6.971322</td>\n",
       "    </tr>\n",
       "    <tr>\n",
       "      <th>5</th>\n",
       "      <td>0.000137</td>\n",
       "      <td>9.345069</td>\n",
       "    </tr>\n",
       "    <tr>\n",
       "      <th>6</th>\n",
       "      <td>0.000168</td>\n",
       "      <td>11.551502</td>\n",
       "    </tr>\n",
       "    <tr>\n",
       "      <th>...</th>\n",
       "      <td>...</td>\n",
       "      <td>...</td>\n",
       "    </tr>\n",
       "    <tr>\n",
       "      <th>461</th>\n",
       "      <td>0.048538</td>\n",
       "      <td>179.052964</td>\n",
       "    </tr>\n",
       "    <tr>\n",
       "      <th>462</th>\n",
       "      <td>0.048875</td>\n",
       "      <td>179.125342</td>\n",
       "    </tr>\n",
       "    <tr>\n",
       "      <th>463</th>\n",
       "      <td>0.049205</td>\n",
       "      <td>179.207591</td>\n",
       "    </tr>\n",
       "    <tr>\n",
       "      <th>464</th>\n",
       "      <td>0.049535</td>\n",
       "      <td>179.308613</td>\n",
       "    </tr>\n",
       "    <tr>\n",
       "      <th>465</th>\n",
       "      <td>0.049869</td>\n",
       "      <td>179.423574</td>\n",
       "    </tr>\n",
       "  </tbody>\n",
       "</table>\n",
       "<p>464 rows × 2 columns</p>\n",
       "</div>"
      ],
      "text/plain": [
       "     Deformación Unitaria    Esfuerzo\n",
       "2                0.000016    1.239497\n",
       "3                0.000065    4.509402\n",
       "4                0.000104    6.971322\n",
       "5                0.000137    9.345069\n",
       "6                0.000168   11.551502\n",
       "..                    ...         ...\n",
       "461              0.048538  179.052964\n",
       "462              0.048875  179.125342\n",
       "463              0.049205  179.207591\n",
       "464              0.049535  179.308613\n",
       "465              0.049869  179.423574\n",
       "\n",
       "[464 rows x 2 columns]"
      ]
     },
     "execution_count": 26,
     "metadata": {},
     "output_type": "execute_result"
    }
   ],
   "source": [
    "# DataFrame conjunto 1 \n",
    "con1=conj_1[['Deformación Unitaria','Esfuerzo']]\n",
    "con1\n",
    "#print(type(con1))"
   ]
  },
  {
   "cell_type": "code",
   "execution_count": 27,
   "metadata": {},
   "outputs": [
    {
     "data": {
      "text/html": [
       "<div>\n",
       "<style scoped>\n",
       "    .dataframe tbody tr th:only-of-type {\n",
       "        vertical-align: middle;\n",
       "    }\n",
       "\n",
       "    .dataframe tbody tr th {\n",
       "        vertical-align: top;\n",
       "    }\n",
       "\n",
       "    .dataframe thead th {\n",
       "        text-align: right;\n",
       "    }\n",
       "</style>\n",
       "<table border=\"1\" class=\"dataframe\">\n",
       "  <thead>\n",
       "    <tr style=\"text-align: right;\">\n",
       "      <th></th>\n",
       "      <th>Deformación Unitaria</th>\n",
       "      <th>Esfuerzo</th>\n",
       "    </tr>\n",
       "  </thead>\n",
       "  <tbody>\n",
       "    <tr>\n",
       "      <th>616</th>\n",
       "      <td>0.100203</td>\n",
       "      <td>188.913602</td>\n",
       "    </tr>\n",
       "    <tr>\n",
       "      <th>617</th>\n",
       "      <td>0.100537</td>\n",
       "      <td>188.947250</td>\n",
       "    </tr>\n",
       "    <tr>\n",
       "      <th>618</th>\n",
       "      <td>0.100871</td>\n",
       "      <td>188.998030</td>\n",
       "    </tr>\n",
       "    <tr>\n",
       "      <th>619</th>\n",
       "      <td>0.101206</td>\n",
       "      <td>189.037972</td>\n",
       "    </tr>\n",
       "    <tr>\n",
       "      <th>620</th>\n",
       "      <td>0.101538</td>\n",
       "      <td>189.057590</td>\n",
       "    </tr>\n",
       "    <tr>\n",
       "      <th>...</th>\n",
       "      <td>...</td>\n",
       "      <td>...</td>\n",
       "    </tr>\n",
       "    <tr>\n",
       "      <th>911</th>\n",
       "      <td>0.198534</td>\n",
       "      <td>181.328030</td>\n",
       "    </tr>\n",
       "    <tr>\n",
       "      <th>912</th>\n",
       "      <td>0.198868</td>\n",
       "      <td>181.249788</td>\n",
       "    </tr>\n",
       "    <tr>\n",
       "      <th>913</th>\n",
       "      <td>0.199205</td>\n",
       "      <td>181.174539</td>\n",
       "    </tr>\n",
       "    <tr>\n",
       "      <th>914</th>\n",
       "      <td>0.199541</td>\n",
       "      <td>181.068559</td>\n",
       "    </tr>\n",
       "    <tr>\n",
       "      <th>915</th>\n",
       "      <td>0.199871</td>\n",
       "      <td>180.947596</td>\n",
       "    </tr>\n",
       "  </tbody>\n",
       "</table>\n",
       "<p>300 rows × 2 columns</p>\n",
       "</div>"
      ],
      "text/plain": [
       "     Deformación Unitaria    Esfuerzo\n",
       "616              0.100203  188.913602\n",
       "617              0.100537  188.947250\n",
       "618              0.100871  188.998030\n",
       "619              0.101206  189.037972\n",
       "620              0.101538  189.057590\n",
       "..                    ...         ...\n",
       "911              0.198534  181.328030\n",
       "912              0.198868  181.249788\n",
       "913              0.199205  181.174539\n",
       "914              0.199541  181.068559\n",
       "915              0.199871  180.947596\n",
       "\n",
       "[300 rows x 2 columns]"
      ]
     },
     "execution_count": 27,
     "metadata": {},
     "output_type": "execute_result"
    }
   ],
   "source": [
    "# DataFrame conjunto 2\n",
    "con2=conj_2[['Deformación Unitaria','Esfuerzo']]\n",
    "con2"
   ]
  },
  {
   "cell_type": "code",
   "execution_count": 28,
   "metadata": {},
   "outputs": [
    {
     "data": {
      "text/html": [
       "<div>\n",
       "<style scoped>\n",
       "    .dataframe tbody tr th:only-of-type {\n",
       "        vertical-align: middle;\n",
       "    }\n",
       "\n",
       "    .dataframe tbody tr th {\n",
       "        vertical-align: top;\n",
       "    }\n",
       "\n",
       "    .dataframe thead th {\n",
       "        text-align: right;\n",
       "    }\n",
       "</style>\n",
       "<table border=\"1\" class=\"dataframe\">\n",
       "  <thead>\n",
       "    <tr style=\"text-align: right;\">\n",
       "      <th></th>\n",
       "      <th>Deformación Unitaria</th>\n",
       "      <th>Esfuerzo</th>\n",
       "    </tr>\n",
       "  </thead>\n",
       "  <tbody>\n",
       "    <tr>\n",
       "      <th>916</th>\n",
       "      <td>0.200201</td>\n",
       "      <td>180.837271</td>\n",
       "    </tr>\n",
       "    <tr>\n",
       "      <th>917</th>\n",
       "      <td>0.200536</td>\n",
       "      <td>180.745168</td>\n",
       "    </tr>\n",
       "    <tr>\n",
       "      <th>918</th>\n",
       "      <td>0.200870</td>\n",
       "      <td>180.663595</td>\n",
       "    </tr>\n",
       "    <tr>\n",
       "      <th>919</th>\n",
       "      <td>0.201204</td>\n",
       "      <td>180.580701</td>\n",
       "    </tr>\n",
       "    <tr>\n",
       "      <th>920</th>\n",
       "      <td>0.201538</td>\n",
       "      <td>180.474153</td>\n",
       "    </tr>\n",
       "    <tr>\n",
       "      <th>...</th>\n",
       "      <td>...</td>\n",
       "      <td>...</td>\n",
       "    </tr>\n",
       "    <tr>\n",
       "      <th>1211</th>\n",
       "      <td>0.298537</td>\n",
       "      <td>135.424938</td>\n",
       "    </tr>\n",
       "    <tr>\n",
       "      <th>1212</th>\n",
       "      <td>0.298869</td>\n",
       "      <td>135.216032</td>\n",
       "    </tr>\n",
       "    <tr>\n",
       "      <th>1213</th>\n",
       "      <td>0.299206</td>\n",
       "      <td>135.010549</td>\n",
       "    </tr>\n",
       "    <tr>\n",
       "      <th>1214</th>\n",
       "      <td>0.299542</td>\n",
       "      <td>134.792570</td>\n",
       "    </tr>\n",
       "    <tr>\n",
       "      <th>1215</th>\n",
       "      <td>0.299872</td>\n",
       "      <td>134.554713</td>\n",
       "    </tr>\n",
       "  </tbody>\n",
       "</table>\n",
       "<p>300 rows × 2 columns</p>\n",
       "</div>"
      ],
      "text/plain": [
       "      Deformación Unitaria    Esfuerzo\n",
       "916               0.200201  180.837271\n",
       "917               0.200536  180.745168\n",
       "918               0.200870  180.663595\n",
       "919               0.201204  180.580701\n",
       "920               0.201538  180.474153\n",
       "...                    ...         ...\n",
       "1211              0.298537  135.424938\n",
       "1212              0.298869  135.216032\n",
       "1213              0.299206  135.010549\n",
       "1214              0.299542  134.792570\n",
       "1215              0.299872  134.554713\n",
       "\n",
       "[300 rows x 2 columns]"
      ]
     },
     "execution_count": 28,
     "metadata": {},
     "output_type": "execute_result"
    }
   ],
   "source": [
    "# DataFrame conjunto 3\n",
    "con3=conj_3[['Deformación Unitaria','Esfuerzo']]\n",
    "con3"
   ]
  },
  {
   "cell_type": "code",
   "execution_count": 55,
   "metadata": {},
   "outputs": [],
   "source": [
    "# Función para la selección de datos aleatorios[¡No modifique esta función!]\n",
    "def newData(data_s_c: pd.DataFrame, c: pd.DataFrame, col_1: str, col_2: str, percentage: float):\n",
    "    \"\"\"\n",
    "    unción para la selección de datos aleatorios dados un porcentaje\n",
    "\n",
    "    Parameters\n",
    "    ----------\n",
    "    data_s_c : pd.DataFrame\n",
    "        Conjunto de datos con las columnas especificadas\n",
    "    c : pd.DataFrame\n",
    "        Conjunto completo de los datos\n",
    "    col_1 : str\n",
    "        Primera columna de interés\n",
    "    col_2 : str\n",
    "        Segunda columna de interés\n",
    "    percentage : float\n",
    "        Porcentaje de los datos que se quiere incluir\n",
    "\n",
    "    Returns\n",
    "    -------\n",
    "    data_s_c1_ : pd.DataFrame\n",
    "        Datos aleatorios del conjunto de datos\n",
    "    \"\"\"\n",
    "    data_s_c1 = c[[col_1, col_2]]\n",
    "    data_s_c1_ = data_s_c.head(1)\n",
    "    data_s_c1_ = pd.concat([data_s_c1_,\n",
    "                       c[[col_1, col_2]].sample(n=int(np.round(len(c[col_1])*percentage,0)), random_state=1)])\n",
    "    data_s_c1_.sort_index(inplace=True)\n",
    "    data_s_c1_ = pd.DataFrame(np.insert(data_s_c1_.values, len(data_s_c1_), \n",
    "                                        values=list(data_s_c1.iloc[-1]),\n",
    "                                        axis=0), columns = [col_1, col_2])\n",
    "    data_s_c1_ = data_s_c1_.drop_duplicates()\n",
    "    data_s_c1_ = data_s_c1_.reset_index(drop=True)\n",
    "    return data_s_c1_\n"
   ]
  },
  {
   "attachments": {},
   "cell_type": "markdown",
   "metadata": {},
   "source": [
    "Seleccionados los 3 conjuntos de datos se debe disminuir la cantidad de puntos para realizar el ejercicio de la interpolación, por lo que utilizando la función anterior [**newData**] debe utilizar los siguientes porcentajes según el conjunto de datos:\n",
    "- Conjunto 1: 20%\n",
    "- Conjunto 2: 4%\n",
    "- Conjunto 3: 100% [Si tiene más de 19 datos disminuya a 80%]"
   ]
  },
  {
   "cell_type": "code",
   "execution_count": 30,
   "metadata": {
    "scrolled": false
   },
   "outputs": [],
   "source": [
    "# Datos seleccionados tramo 1\n",
    "paq1=newData(con1,conj_1,'Deformación Unitaria','Esfuerzo',0.2)"
   ]
  },
  {
   "cell_type": "code",
   "execution_count": 31,
   "metadata": {},
   "outputs": [],
   "source": [
    "# Datos seleccionados tramo 2\n",
    "paq2=newData(con2,conj_2,'Deformación Unitaria','Esfuerzo',0.04)"
   ]
  },
  {
   "cell_type": "code",
   "execution_count": 32,
   "metadata": {},
   "outputs": [
    {
     "data": {
      "text/html": [
       "<div>\n",
       "<style scoped>\n",
       "    .dataframe tbody tr th:only-of-type {\n",
       "        vertical-align: middle;\n",
       "    }\n",
       "\n",
       "    .dataframe tbody tr th {\n",
       "        vertical-align: top;\n",
       "    }\n",
       "\n",
       "    .dataframe thead th {\n",
       "        text-align: right;\n",
       "    }\n",
       "</style>\n",
       "<table border=\"1\" class=\"dataframe\">\n",
       "  <thead>\n",
       "    <tr style=\"text-align: right;\">\n",
       "      <th></th>\n",
       "      <th>Deformación Unitaria</th>\n",
       "      <th>Esfuerzo</th>\n",
       "    </tr>\n",
       "  </thead>\n",
       "  <tbody>\n",
       "    <tr>\n",
       "      <th>0</th>\n",
       "      <td>0.200201</td>\n",
       "      <td>180.837271</td>\n",
       "    </tr>\n",
       "    <tr>\n",
       "      <th>1</th>\n",
       "      <td>0.200870</td>\n",
       "      <td>180.663595</td>\n",
       "    </tr>\n",
       "    <tr>\n",
       "      <th>2</th>\n",
       "      <td>0.201538</td>\n",
       "      <td>180.474153</td>\n",
       "    </tr>\n",
       "    <tr>\n",
       "      <th>3</th>\n",
       "      <td>0.201873</td>\n",
       "      <td>180.364028</td>\n",
       "    </tr>\n",
       "    <tr>\n",
       "      <th>4</th>\n",
       "      <td>0.202203</td>\n",
       "      <td>180.252874</td>\n",
       "    </tr>\n",
       "    <tr>\n",
       "      <th>...</th>\n",
       "      <td>...</td>\n",
       "      <td>...</td>\n",
       "    </tr>\n",
       "    <tr>\n",
       "      <th>235</th>\n",
       "      <td>0.298537</td>\n",
       "      <td>135.424938</td>\n",
       "    </tr>\n",
       "    <tr>\n",
       "      <th>236</th>\n",
       "      <td>0.298869</td>\n",
       "      <td>135.216032</td>\n",
       "    </tr>\n",
       "    <tr>\n",
       "      <th>237</th>\n",
       "      <td>0.299206</td>\n",
       "      <td>135.010549</td>\n",
       "    </tr>\n",
       "    <tr>\n",
       "      <th>238</th>\n",
       "      <td>0.299542</td>\n",
       "      <td>134.792570</td>\n",
       "    </tr>\n",
       "    <tr>\n",
       "      <th>239</th>\n",
       "      <td>0.299872</td>\n",
       "      <td>134.554713</td>\n",
       "    </tr>\n",
       "  </tbody>\n",
       "</table>\n",
       "<p>240 rows × 2 columns</p>\n",
       "</div>"
      ],
      "text/plain": [
       "     Deformación Unitaria    Esfuerzo\n",
       "0                0.200201  180.837271\n",
       "1                0.200870  180.663595\n",
       "2                0.201538  180.474153\n",
       "3                0.201873  180.364028\n",
       "4                0.202203  180.252874\n",
       "..                    ...         ...\n",
       "235              0.298537  135.424938\n",
       "236              0.298869  135.216032\n",
       "237              0.299206  135.010549\n",
       "238              0.299542  134.792570\n",
       "239              0.299872  134.554713\n",
       "\n",
       "[240 rows x 2 columns]"
      ]
     },
     "execution_count": 32,
     "metadata": {},
     "output_type": "execute_result"
    }
   ],
   "source": [
    "# Datos seleccionados tramo 3 \n",
    "paq3=newData(con3,conj_3,'Deformación Unitaria','Esfuerzo',0.8)\n",
    "paq3"
   ]
  },
  {
   "cell_type": "code",
   "execution_count": 33,
   "metadata": {},
   "outputs": [],
   "source": [
    "# Evaluar el comportamiento de cada tramo con los datos seleccionados \n",
    "#lagrange\n",
    "#interp1d\n",
    "#InterpolatedUnivariateSpline"
   ]
  },
  {
   "cell_type": "code",
   "execution_count": 34,
   "metadata": {},
   "outputs": [],
   "source": [
    "# Datos de x y y para cada conjunto de datos [Se recomienda pasarlo a un array después de seleccionar la columna del DatFrame]\n",
    "# Puntos paquete datos 1\n",
    "datosxcon1=paq1['Deformación Unitaria'].to_numpy()\n",
    "datosycon1=paq1['Esfuerzo'].to_numpy()\n",
    "#Puntos paquete datos 2\n",
    "datosxcon2=paq2['Deformación Unitaria'].to_numpy()\n",
    "datosycon2=paq2['Esfuerzo'].to_numpy()\n",
    "#Puntos paquete datos 3\n",
    "datosxcon3=paq3['Deformación Unitaria'].to_numpy()\n",
    "datosycon3=paq3['Esfuerzo'].to_numpy()\n",
    "#datosxcon1=paq1['Deformación Unitaria'].to_numpy()\n"
   ]
  },
  {
   "cell_type": "code",
   "execution_count": 35,
   "metadata": {},
   "outputs": [
    {
     "data": {
      "text/plain": [
       "<scipy.interpolate._interpolate.interp1d at 0x28fd39a0640>"
      ]
     },
     "execution_count": 35,
     "metadata": {},
     "output_type": "execute_result"
    }
   ],
   "source": [
    "# Realizar interpolación \n",
    "interpol1 = interp1d(datosxcon1,datosycon1)\n",
    "#interpol1\n",
    "interpol2 = InterpolatedUnivariateSpline(datosxcon2,datosycon2)\n",
    "#interpol2\n",
    "interpol3 = interp1d(datosxcon3,datosycon3)\n",
    "interpol3"
   ]
  },
  {
   "cell_type": "code",
   "execution_count": 36,
   "metadata": {},
   "outputs": [
    {
     "data": {
      "text/plain": [
       "[<matplotlib.lines.Line2D at 0x28fdd639c50>]"
      ]
     },
     "execution_count": 36,
     "metadata": {},
     "output_type": "execute_result"
    },
    {
     "data": {
      "image/png": "[encoded data removed]",
      "text/plain": [
       "<Figure size 800x500 with 1 Axes>"
      ]
     },
     "metadata": {},
     "output_type": "display_data"
    },
    {
     "data": {
      "image/png": "[encoded data removed]",
      "text/plain": [
       "<Figure size 800x500 with 1 Axes>"
      ]
     },
     "metadata": {},
     "output_type": "display_data"
    },
    {
     "data": {
      "image/png": "[encoded data removed]",
      "text/plain": [
       "<Figure size 800x500 with 1 Axes>"
      ]
     },
     "metadata": {},
     "output_type": "display_data"
    }
   ],
   "source": [
    "# Evaluar el comportamiento de cada tramo\n",
    "x_new1 = 0.02\n",
    "y_new1 = interpol1(x_new1)\n",
    "y_new1\n",
    "y_inter = interpol1(datosxcon1)\n",
    "y_inter\n",
    "\n",
    "plt.figure(figsize=(hor, ver))\n",
    "\n",
    "plt.plot(datosxcon1, datosycon1, linestyle='', marker='o', color='dodgerblue', ms=4, label='Datos seleccionados')\n",
    "plt.plot(x_new1, y_new1, linestyle='', marker='o', color='crimson', ms=10, label='Dato desconocido (interpolado)')\n",
    "#plt.plot(datosxcon1, y_inter, linestyle='--', marker='o', color='orange', ms=4, label='Datos interpolados')\n",
    "#-----------------\n",
    "x_new2 = 0.157\n",
    "y_new2 = interpol2(x_new2)\n",
    "y_new2\n",
    "\n",
    "plt.figure(figsize=(hor, ver))\n",
    "\n",
    "plt.plot(datosxcon2, datosycon2, linestyle='', marker='o', color='dodgerblue', ms=4, label='Esfuerzo vs Deformcaión')\n",
    "plt.plot(x_new2, y_new2, linestyle='', marker='o', color='crimson', ms=10, label='Dato desconocido (interpolado)')\n",
    "#plt.plot(datosxcon3, y_new2, linestyle='--', marker='^', color='orange', ms=7, label='Datos interpolados')\n",
    "#-------------------\n",
    "x_new3=0.25\n",
    "y_new3=interpol3(x_new3)\n",
    "y_new3\n",
    "\n",
    "plt.figure(figsize=(hor, ver))\n",
    "\n",
    "plt.plot(datosxcon3, datosycon3, linestyle='', marker='s', color='dodgerblue', ms=4, label='Esfuerzo vs Deformcaión')\n",
    "plt.plot(x_new3, y_new3, linestyle='', marker='o', color='crimson', ms=10, label='Dato desconocido (interpolado)')\n",
    "#plt.plot(datosxcon3, y_new3, linestyle='--', marker='^', color='orange', ms=7, label='Datos interpolados')\n"
   ]
  },
  {
   "cell_type": "code",
   "execution_count": 37,
   "metadata": {},
   "outputs": [],
   "source": [
    "# Evaluar el comportamiento de cada tramo en conjunto [Debe poder reconstruir la curva]\n"
   ]
  },
  {
   "cell_type": "markdown",
   "metadata": {},
   "source": [
    "## **Punto 3 - Sección Raíces**\n",
    "----\n",
    "\n",
    "<p align=\"center\">\n",
    "<img src=./img/Ejercicio_2.png width=\"30%\">\n",
    "</p>\n",
    "\n",
    "\n",
    "En la figura anterior tiene dos curvas con las cuales debe:\n",
    "1. Obtener datos de x y y de cada una\n",
    "2. Interpole los datos (Esto con el fin de aproximar mejor la solución)\n",
    "2. Utilizando la librería polyfit de numpy y los datos del literal anterior encuentre las ecuaciones de las curvas.\n",
    "3. Teniendo las ecuaciones diga cuál sería la raíz para este caso. \n",
    "4. Encuentre la raíz utilizando las ecuaciones encontradas. \n"
   ]
  },
  {
   "cell_type": "markdown",
   "metadata": {},
   "source": []
  },
  {
   "cell_type": "code",
   "execution_count": 38,
   "metadata": {},
   "outputs": [],
   "source": [
    "# Puntos con las curvas\n",
    "\n",
    "\n",
    "# Ineterpolación de los puntos\n"
   ]
  },
  {
   "cell_type": "code",
   "execution_count": 39,
   "metadata": {},
   "outputs": [],
   "source": [
    "# Graficar puntos [Reconstrucción de la gráfica inicial]\n"
   ]
  },
  {
   "cell_type": "code",
   "execution_count": 40,
   "metadata": {},
   "outputs": [],
   "source": [
    "# Encontrar ecuaciones curva 1\n"
   ]
  },
  {
   "cell_type": "code",
   "execution_count": 41,
   "metadata": {},
   "outputs": [],
   "source": [
    "# Encontrar ecuaciones curva 2\n"
   ]
  },
  {
   "cell_type": "code",
   "execution_count": 42,
   "metadata": {},
   "outputs": [],
   "source": [
    "# Encontrar raices "
   ]
  },
  {
   "attachments": {},
   "cell_type": "markdown",
   "metadata": {},
   "source": [
    "## Punto 4\n",
    "----\n",
    "\n",
    "Uno de los puntos importantes que se obtienen con la curva esfuerzo vs deformación es el esfuerzo de fluencia $S_{y}$, este se define como el esfuerzo máximo que se puede desarrollar en un material sin causar una deformación plástica[1]. Este se puede encontrar trazando una línea paralela y que parte desde el 0.002 en el eje x que es el que tiene la deformación, cuando se interseca con la curva original del material es cuando se obtiene su valor. \n",
    "\n",
    "1. Utilizando algunos puntos del primer tramo del punto 2, encuentre el módulo de Young. \n",
    "- Para que no se tengan errores con la función de *polyfit* utilizar con los valores escogidos utilice np.array(x).reshape(-1,).\n",
    "2. Se quiere encontrar el esfuerzo de Fluencia para lo cual de los puntos que seleccionó anteriormente al ser un array: \n",
    "- 2.1. En una nueva variable sumele a la deformación 0.002.\n",
    "- 2.2. Encuentre la ecuación utilzando los nuevos x (deformacion) y el y (Esfuerzo) del literal 1.\n",
    "- 2.3. Para realizar la paralela y que cruce la curva inicial defina una variable que van a ser los nuevos puntos x utilizando como punto inicial el x[0] de la deformación desplazada. \n",
    "- 2.4. Evalúe los valores del 2.3. en la ecuación del punto 2.2.\n",
    "\n",
    "3. Grafique la recta encontrada junto con la gráfica de esfuerzo deformación del tramo correspondiente.\n",
    "4. Como puede evidenciar en donde se corta con la curva original si se delimita entre 0.00314 y 0.008 se tiene una recta. Encuentre la ecuación de esta recta.\n",
    "5. En este caso se encuentra que se tiene un problema de raices, siendo esta en donde se intersecan las rectas. Encuentre el esfuerzo de fluencia del material y compare con la literatura. \n",
    "\n",
    "\n",
    "[1] https://www.instron.com/es-es/resources/glossary/y/yield-strength"
   ]
  },
  {
   "cell_type": "code",
   "execution_count": 59,
   "metadata": {},
   "outputs": [],
   "source": [
    "#Punto 1.1. Selección datos x y y para encontrar el módulo de Young\n",
    "def datos_lineales(a,b):\n",
    "    lista=[]\n",
    "    n=2\n",
    "    while n<=a:\n",
    "        lista.append(b[n])\n",
    "        n+=1\n",
    "    return lista\n",
    "\n",
    "dx= datos_lineales(3,con1[\"Deformación Unitaria\"])\n",
    "dy= datos_lineales(3,con1[\"Esfuerzo\"])\n",
    "graficax = np.array(dx).reshape(-1)\n",
    "graficay = np.array(dy).reshape(-1)\n",
    "#fig, ax = plt.subplots(figsize=(16,5))\n",
    "#ax.scatter(x= graficax,y= graficay, color='orange')\n",
    "#ax.set_title('Esfuerzo vs Deformación')"
   ]
  },
  {
   "cell_type": "code",
   "execution_count": 60,
   "metadata": {},
   "outputs": [
    {
     "name": "stdout",
     "output_type": "stream",
     "text": [
      "El módulo de Young es igual a la pendiente de la ecuación: \n",
      "6.756e+04 x + 0.1315\n"
     ]
    }
   ],
   "source": [
    "# Encontrar ecuación de la recta [Módulo de Young]\n",
    "ecuacion = lagrange(dx,dy)\n",
    "print('El módulo de Young es igual a la pendiente de la ecuación:' + str(ecuacion))"
   ]
  },
  {
   "cell_type": "code",
   "execution_count": 45,
   "metadata": {},
   "outputs": [],
   "source": [
    "# 2.1. Desplazar la gráfica al 0.002\n",
    "def desplazar(a,b):\n",
    "    c=[]\n",
    "    for i in a:\n",
    "        c.append(i+b)\n",
    "    return c\n",
    "print(dx)\n",
    "x_desplazada=desplazar(dx,0.0002)\n",
    "print(x_desplazada)\n",
    "\n",
    "# 2.2. Encontrar la ecuación \n"
   ]
  },
  {
   "cell_type": "code",
   "execution_count": 46,
   "metadata": {},
   "outputs": [],
   "source": [
    "# 2.3. - 2.4. Creación de datos para graficar\n"
   ]
  },
  {
   "cell_type": "code",
   "execution_count": 47,
   "metadata": {},
   "outputs": [],
   "source": [
    "# 3. Gráfica\n"
   ]
  },
  {
   "cell_type": "code",
   "execution_count": 48,
   "metadata": {},
   "outputs": [],
   "source": [
    "# 4. Delimitar rangos esfuerzo deformación del tramo de interés  \n"
   ]
  },
  {
   "cell_type": "code",
   "execution_count": 49,
   "metadata": {},
   "outputs": [],
   "source": [
    "# 4.1. Encontrar ecuación de la recta\n"
   ]
  },
  {
   "cell_type": "code",
   "execution_count": 50,
   "metadata": {},
   "outputs": [],
   "source": [
    "# 5. Encontrar Raiz \n"
   ]
  }
 ],
 "metadata": {
  "kernelspec": {
   "display_name": "Python 3 (ipykernel)",
   "language": "python",
   "name": "python3"
  },
  "language_info": {
   "codemirror_mode": {
    "name": "ipython",
    "version": 3
   },
   "file_extension": ".py",
   "mimetype": "text/x-python",
   "name": "python",
   "nbconvert_exporter": "python",
   "pygments_lexer": "ipython3",
   "version": "3.11.5"
  },
  "vscode": {
   "interpreter": {
    "hash": "53a1c45876d37b93742cefcbccd0e028309dbdecc6e457f55650f19fbe3f8ebb"
   }
  }
 },
 "nbformat": 4,
 "nbformat_minor": 2
}
