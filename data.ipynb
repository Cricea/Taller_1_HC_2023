{
 "cells": [
  {
   "cell_type": "code",
   "execution_count": 51,
   "metadata": {},
   "outputs": [
    {
     "name": "stdout",
     "output_type": "stream",
     "text": [
      "False\n",
      "[[1], [2, 3]]\n"
     ]
    }
   ],
   "source": [
    "def is_staircase(nums):\n",
    "    col_length = 0\n",
    "    staircase = []\n",
    "\n",
    "    while len(nums) > 0:\n",
    "        col_length = col_length + 1\n",
    "        column = []\n",
    "\n",
    "        for i in range(0, col_length):\n",
    "            column.append(nums.pop(0))\n",
    "\n",
    "            if (len(nums) == 0):\n",
    "                if i < col_length - 1:\n",
    "                    return False\n",
    "                return staircase\n",
    "        staircase.append(column)\n",
    "print(is_staircase([1,2,3,4,5,6,7]))\n",
    "print(is_staircase([1,2,3,4,5,6]))"
   ]
  },
  {
   "cell_type": "code",
   "execution_count": 52,
   "metadata": {},
   "outputs": [
    {
     "name": "stdout",
     "output_type": "stream",
     "text": [
      "[[1], [2, 3], [4, 5, 6], [7, 8, 9, 10]]\n",
      "[[1], [2, 3], [4, 5, 6]]\n"
     ]
    }
   ],
   "source": [
    "def is_staircase(nums):\n",
    "    col_length = 0\n",
    "    staircase = []\n",
    "    input_list = nums.copy()\n",
    "\n",
    "    while len(input_list) > 0:\n",
    "        col_length = col_length + 1\n",
    "        column = []\n",
    "\n",
    "        for i in range(0, col_length):\n",
    "            column.append(input_list.pop(0))\n",
    "\n",
    "            if (len(input_list) == 0):\n",
    "                if i < col_length - 1:\n",
    "                    return False\n",
    "                staircase.append(column)\n",
    "                return staircase\n",
    "        staircase.append(column)\n",
    "print(is_staircase([1,2,3,4,5,6,7,8,9,10]))\n",
    "print(is_staircase([1,2,3,4,5,6]))"
   ]
  },
  {
   "cell_type": "code",
   "execution_count": 53,
   "metadata": {},
   "outputs": [
    {
     "name": "stdout",
     "output_type": "stream",
     "text": [
      "Es primo\n",
      "Es primo\n",
      "Es primo\n",
      "No es primo 2 es divisor\n",
      "Es primo\n",
      "No es primo 2 es divisor\n",
      "perros amor gatos computadoras\n"
     ]
    },
    {
     "data": {
      "text/plain": [
       "'\\n    1.La función decodificar toma como argumento el nombre del archivo de mensaje.\\n    2.Lee las líneas del archivo para obtener las palabras y sus números asociados.\\n    3.Construye un diccionario (palabras) donde las claves son los números y los valores son las palabras.\\n    4.Forma una pirámide ordenada utilizando los números asociados a las palabras.\\n    5.Concatena las palabras de la pirámide para obtener el mensaje decodificado.\\n    \\n    Este código asume que el archivo de entrada sigue el formato especificado y devuelve el mensaje decodificado.\\n    Recuerda ajustar la ruta del archivo según sea necesario para tu caso.\\n    '"
      ]
     },
     "execution_count": 53,
     "metadata": {},
     "output_type": "execute_result"
    }
   ],
   "source": [
    "def es_primo(num):\n",
    "    for n in range(2, num):\n",
    "        if num % n == 0:\n",
    "            print(\"No es primo\", n, \"es divisor\")\n",
    "            return False\n",
    "    print(\"Es primo\")\n",
    "    return True\n",
    "def decodificar(archivo_mensaje):\n",
    "    # Leer el contenido del archivo\n",
    "    with open(archivo_mensaje, 'r') as file:\n",
    "        lines = file.readlines()\n",
    "\n",
    "    # Crear un diccionario para almacenar las palabras\n",
    "    palabras = {}\n",
    "    for line in lines:\n",
    "        partes = line.split()\n",
    "        numero = int(partes[0])\n",
    "        palabra = ' '.join(partes[1:])\n",
    "        palabras[numero] = palabra\n",
    "\n",
    "    # Obtener la pirámide\n",
    "    piramide = []\n",
    "    for i in range(1, max(palabras.keys()) + 1):\n",
    "        if (es_primo(i) == True): \n",
    "            piramide.append(palabras[i+1])\n",
    "\n",
    "    mensaje_decodificado = ' '.join(piramide)\n",
    "    return mensaje_decodificado\n",
    "\n",
    "archivo_mensaje = 'texto.txt'\n",
    "resultado = decodificar(archivo_mensaje)\n",
    "print(resultado)\n",
    "\"\"\"\n",
    "    1.La función decodificar toma como argumento el nombre del archivo de mensaje.\n",
    "    2.Lee las líneas del archivo para obtener las palabras y sus números asociados.\n",
    "    3.Construye un diccionario (palabras) donde las claves son los números y los valores son las palabras.\n",
    "    4.Forma una pirámide ordenada utilizando los números asociados a las palabras.\n",
    "    5.Concatena las palabras de la pirámide para obtener el mensaje decodificado.\n",
    "    \n",
    "    Este código asume que el archivo de entrada sigue el formato especificado y devuelve el mensaje decodificado.\n",
    "    Recuerda ajustar la ruta del archivo según sea necesario para tu caso.\n",
    "    \"\"\"\n",
    "\n"
   ]
  },
  {
   "cell_type": "code",
   "execution_count": 54,
   "metadata": {},
   "outputs": [
    {
     "name": "stdout",
     "output_type": "stream",
     "text": [
      "yo perros amor gatos tu computadoras\n"
     ]
    }
   ],
   "source": [
    "def decodificar(archivo_mensaje):\n",
    "    # Leer el contenido del archivo\n",
    "    with open(archivo_mensaje, 'r') as file:\n",
    "        lines = file.readlines()\n",
    "\n",
    "    # Crear un diccionario para almacenar las palabras y sus números asociados\n",
    "    palabras = {}\n",
    "    for line in lines:\n",
    "        partes = line.split()\n",
    "        numero = int(partes[0])\n",
    "        palabra = ' '.join(partes[1:])\n",
    "        palabras[numero] = palabra\n",
    "\n",
    "    # Obtener la pirámide ordenada\n",
    "    piramide = []\n",
    "    for i in range(1, max(palabras.keys()) + 1):\n",
    "        if i in palabras:\n",
    "            piramide.append(palabras[i])\n",
    "\n",
    "    # Devolver la cadena formada por las palabras en la pirámide\n",
    "    mensaje_decodificado = ' '.join(piramide)\n",
    "    return mensaje_decodificado\n",
    "archivo_mensaje = 'texto.txt'\n",
    "resultado = decodificar(archivo_mensaje)\n",
    "print(resultado)\n"
   ]
  },
  {
   "cell_type": "markdown",
   "metadata": {},
   "source": [
    "este si sera\n"
   ]
  },
  {
   "cell_type": "code",
   "execution_count": 81,
   "metadata": {},
   "outputs": [
    {
     "name": "stdout",
     "output_type": "stream",
     "text": [
      "{1: 'yo', 2: 'perros', 3: 'amor', 4: 'gatos', 5: 'tu', 6: 'computadoras'}\n",
      "[1, 2, 3, 4, 5, 6]\n",
      "[1, 3, 6]\n",
      "['yo', 'amor', 'computadoras']\n"
     ]
    }
   ],
   "source": [
    "def is_staircase(nums):\n",
    "    col_length = 0\n",
    "    staircase = []\n",
    "    input_list = nums.copy()\n",
    "\n",
    "    while len(input_list) > 0:\n",
    "        col_length = col_length + 1\n",
    "        column = []\n",
    "\n",
    "        for i in range(0, col_length):\n",
    "            column.append(input_list.pop(0))\n",
    "\n",
    "            if (len(input_list) == 0):\n",
    "                if i < col_length - 1:\n",
    "                    return False\n",
    "                staircase.append(column)\n",
    "                return staircase\n",
    "        staircase.append(column)\n",
    "#print(is_staircase([1,2,3,4,5,6,7,8,9,10]))\n",
    "#print(is_staircase([1,2,3,4,5,6]))\n",
    "archivo_mensaje = 'texto.txt'\n",
    "def decodificar(archivo_mensaje):\n",
    "    # Leer el contenido del archivo\n",
    "    with open(archivo_mensaje, 'r') as file:\n",
    "        lines = file.readlines()\n",
    "\n",
    "    # Crear un diccionario para almacenar las palabras y sus números asociados\n",
    "    palabras = {}\n",
    "    for line in lines:\n",
    "        partes = line.split()\n",
    "        numero = int(partes[0])\n",
    "        palabra = ' '.join(partes[1:])\n",
    "        palabras[numero] = palabra\n",
    "    print(palabras)\n",
    "    numero=[]\n",
    "    # Obtener la piramide de los indices de las palabras\n",
    "    for i in range(1,max(palabras.keys())+1):\n",
    "        numero.append(i)\n",
    "    print (numero)\n",
    "    piramide = is_staircase(numero) \n",
    "    arista_derecha = []\n",
    "    # Extraer la arista derecha de la piramide\n",
    "    for fila in piramide:\n",
    "        elemento_arista= fila[-1]\n",
    "        arista_derecha.append(elemento_arista)\n",
    "    print(arista_derecha)\n",
    "    frase = []\n",
    "    for elemento in arista_derecha:\n",
    "        if elemento in numero:\n",
    "            frase.append(palabras[elemento])\n",
    "    print (frase)\n",
    "\n",
    "decodificar(archivo_mensaje)"
   ]
  }
 ],
 "metadata": {
  "kernelspec": {
   "display_name": "base",
   "language": "python",
   "name": "python3"
  },
  "language_info": {
   "codemirror_mode": {
    "name": "ipython",
    "version": 3
   },
   "file_extension": ".py",
   "mimetype": "text/x-python",
   "name": "python",
   "nbconvert_exporter": "python",
   "pygments_lexer": "ipython3",
   "version": "3.9.12"
  }
 },
 "nbformat": 4,
 "nbformat_minor": 2
}
